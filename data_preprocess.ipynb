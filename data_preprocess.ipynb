{
 "cells": [
  {
   "cell_type": "code",
   "execution_count": 2,
   "metadata": {},
   "outputs": [
    {
     "data": {
      "text/plain": [
       "True"
      ]
     },
     "execution_count": 2,
     "metadata": {},
     "output_type": "execute_result"
    }
   ],
   "source": [
    "import yfinance as yf #good for real time analysis and very accurate\n",
    "from fredapi import Fred\n",
    "import pandas as pd\n",
    "import numpy as np\n",
    "import os\n",
    "from dotenv import load_dotenv\n",
    "from sklearn.preprocessing import StandardScaler,MinMaxScaler\n",
    "import datetime as dt\n",
    "import matplotlib.pyplot as plt\n",
    "\n",
    "load_dotenv(\".env\")"
   ]
  },
  {
   "cell_type": "markdown",
   "metadata": {},
   "source": [
    "## Data Preparation"
   ]
  },
  {
   "cell_type": "markdown",
   "metadata": {},
   "source": [
    "### Data Download"
   ]
  },
  {
   "cell_type": "code",
   "execution_count": 3,
   "metadata": {},
   "outputs": [
    {
     "name": "stdout",
     "output_type": "stream",
     "text": [
      "YF.download() has changed argument auto_adjust default to True\n"
     ]
    },
    {
     "name": "stderr",
     "output_type": "stream",
     "text": [
      "[*********************100%***********************]  1 of 1 completed\n"
     ]
    }
   ],
   "source": [
    "symbol = \"GOOG\"\n",
    "stock = yf.Ticker(symbol)\n",
    "df = yf.download(symbol,period=\"1mo\",interval=\"1h\")\n",
    "#with open(\"./info.txt\",\"w\") as f:\n",
    "#    f.write(\"\\n\\n\".join([news[\"content\"][\"summary\"] for news in stock.news]))\n",
    "if not isinstance(df.columns,pd.MultiIndex):\n",
    "    #normal\n",
    "    df.columns = pd.Index([col.split(\" \")[-1].lower() for col in df.columns])\n",
    "else:\n",
    "    #forex\n",
    "    df.columns = pd.Index([col[0].split(\" \")[-1].lower() for col in df.columns])\n",
    "dataDF = df"
   ]
  },
  {
   "cell_type": "code",
   "execution_count": 4,
   "metadata": {},
   "outputs": [
    {
     "name": "stdout",
     "output_type": "stream",
     "text": [
      "2024-10-01    4.1\n",
      "2024-11-01    4.2\n",
      "2024-12-01    4.1\n",
      "2025-01-01    4.0\n",
      "2025-02-01    4.1\n",
      "dtype: float64\n"
     ]
    }
   ],
   "source": [
    "fred_key = os.environ.get(\"FRED_API\")\n",
    "fred = Fred(api_key=fred_key)\n",
    "\n",
    "unemployment = fred.get_series(\"UNRATE\")\n",
    "\n",
    "print(unemployment.tail())  # Show latest values"
   ]
  },
  {
   "cell_type": "code",
   "execution_count": 5,
   "metadata": {},
   "outputs": [
    {
     "name": "stdout",
     "output_type": "stream",
     "text": [
      "                                close        high         low        open  \\\n",
      "Datetime                                                                    \n",
      "2025-02-28 18:30:00+00:00  169.320007  170.289993  168.960007  169.919998   \n",
      "2025-02-28 19:30:00+00:00  171.014999  171.050003  169.169998  169.320007   \n",
      "2025-02-28 20:30:00+00:00  172.160004  172.500000  170.369995  171.029999   \n",
      "2025-03-03 14:30:00+00:00  172.479996  175.000000  170.779999  173.710007   \n",
      "2025-03-03 15:30:00+00:00  171.979996  172.789993  171.770004  172.479996   \n",
      "\n",
      "                            volume  \n",
      "Datetime                            \n",
      "2025-02-28 18:30:00+00:00        0  \n",
      "2025-02-28 19:30:00+00:00  1891645  \n",
      "2025-02-28 20:30:00+00:00  3330257  \n",
      "2025-03-03 14:30:00+00:00  5575794  \n",
      "2025-03-03 15:30:00+00:00  1776438  \n",
      "Index(['close', 'high', 'low', 'open', 'volume'], dtype='object')\n"
     ]
    }
   ],
   "source": [
    "print(df.head())\n",
    "print(df.columns)"
   ]
  },
  {
   "cell_type": "code",
   "execution_count": 6,
   "metadata": {},
   "outputs": [],
   "source": [
    "def plot_lines(columns):\n",
    "    fig, ax = plt.subplots(figsize=(20,6))\n",
    "    minV=float(\"inf\")\n",
    "    maxV=float(\"-inf\")\n",
    "    cmap = plt.get_cmap(\"jet\")\n",
    "    # Create a Line2D object\n",
    "    for i,col in enumerate(columns):\n",
    "        color = cmap(i/len(columns))\n",
    "        line = plt.Line2D(ydata=dataDF[col].to_numpy(), xdata=np.arange(0, dataDF.shape[0]),color=color,label=col)\n",
    "        minV = min(minV,dataDF[col].min())\n",
    "        maxV = max(maxV,dataDF[col].max())\n",
    "        # Add the line to the axis\n",
    "        ax.add_line(line)\n",
    "\n",
    "    # Adjust limits\n",
    "    ax.legend()\n",
    "    ax.set_ylim(minV, maxV)\n",
    "    ax.set_xlim(0, dataDF.shape[0])\n",
    "    # Show plot\n",
    "    plt.show()"
   ]
  },
  {
   "cell_type": "markdown",
   "metadata": {},
   "source": [
    "### Moving Average calculation"
   ]
  },
  {
   "cell_type": "code",
   "execution_count": 7,
   "metadata": {},
   "outputs": [
    {
     "data": {
      "text/plain": [
       "Datetime\n",
       "2025-02-28 18:30:00+00:00    169.320007\n",
       "2025-02-28 19:30:00+00:00    170.167503\n",
       "2025-02-28 20:30:00+00:00    170.831670\n",
       "2025-03-03 14:30:00+00:00    171.243752\n",
       "2025-03-03 15:30:00+00:00    171.391000\n",
       "                                ...    \n",
       "2025-03-31 13:30:00+00:00    162.659301\n",
       "2025-03-31 14:30:00+00:00    161.878301\n",
       "2025-03-31 15:30:00+00:00    161.221801\n",
       "2025-03-31 16:30:00+00:00    160.558801\n",
       "2025-03-31 17:30:00+00:00    159.985301\n",
       "Name: SMA_20, Length: 148, dtype: float64"
      ]
     },
     "execution_count": 7,
     "metadata": {},
     "output_type": "execute_result"
    }
   ],
   "source": [
    "def calc_moving_average(data,column=\"close\",prevCandles=50):\n",
    "    data[f'SMA_{prevCandles}'] = data[column].rolling(prevCandles,min_periods=1).mean()\n",
    "    return data[f'SMA_{prevCandles}']\n",
    "calc_moving_average(dataDF,prevCandles=50)\n",
    "calc_moving_average(dataDF,prevCandles=20)"
   ]
  },
  {
   "cell_type": "code",
   "execution_count": 8,
   "metadata": {},
   "outputs": [
    {
     "data": {
      "text/plain": [
       "Datetime\n",
       "2025-02-28 18:30:00+00:00    169.320007\n",
       "2025-02-28 19:30:00+00:00    170.200099\n",
       "2025-02-28 20:30:00+00:00    170.904274\n",
       "2025-03-03 14:30:00+00:00    171.344777\n",
       "2025-03-03 15:30:00+00:00    171.492087\n",
       "                                ...    \n",
       "2025-03-31 13:30:00+00:00    162.400744\n",
       "2025-03-31 14:30:00+00:00    161.802163\n",
       "2025-03-31 15:30:00+00:00    161.345700\n",
       "2025-03-31 16:30:00+00:00    160.906014\n",
       "2025-03-31 17:30:00+00:00    160.522601\n",
       "Name: EMA_26, Length: 148, dtype: float64"
      ]
     },
     "execution_count": 8,
     "metadata": {},
     "output_type": "execute_result"
    }
   ],
   "source": [
    "def calc_exp_average(data,column=\"close\",smoothing=10):\n",
    "    data[f'EMA_{smoothing}'] = data[column].ewm(span=smoothing,adjust=True).mean()\n",
    "    return data[f'EMA_{smoothing}'] \n",
    "calc_exp_average(dataDF,smoothing=12)\n",
    "calc_exp_average(dataDF,smoothing=26)"
   ]
  },
  {
   "cell_type": "code",
   "execution_count": 9,
   "metadata": {},
   "outputs": [],
   "source": [
    "#plot_lines([\"SMA_50\",\"SMA_20\",\"close\"])\n",
    "#plot_lines([\"EMA_12\",\"EMA_26\",\"close\"])"
   ]
  },
  {
   "cell_type": "markdown",
   "metadata": {},
   "source": [
    "### rsi calculation"
   ]
  },
  {
   "cell_type": "code",
   "execution_count": 10,
   "metadata": {},
   "outputs": [
    {
     "name": "stdout",
     "output_type": "stream",
     "text": [
      "Datetime\n",
      "2025-02-28 18:30:00+00:00    50.000000\n",
      "2025-02-28 19:30:00+00:00    99.998820\n",
      "2025-02-28 20:30:00+00:00    99.998944\n",
      "2025-03-03 14:30:00+00:00    99.998734\n",
      "2025-03-03 15:30:00+00:00    86.338755\n",
      "                               ...    \n",
      "2025-03-31 13:30:00+00:00     4.645704\n",
      "2025-03-31 14:30:00+00:00    12.177161\n",
      "2025-03-31 15:30:00+00:00    19.572460\n",
      "2025-03-31 16:30:00+00:00    19.973525\n",
      "2025-03-31 17:30:00+00:00    22.053570\n",
      "Name: rsi_14, Length: 148, dtype: float64\n"
     ]
    }
   ],
   "source": [
    "def calculate_rsi(data, period=14):\n",
    "    delta = data['close'].diff()\n",
    "    gain = (delta.where(delta > 0, 0)).rolling(window=period,min_periods=1).mean()\n",
    "    loss = (-delta.where(delta < 0, 0)).rolling(window=period,min_periods=1).mean()\n",
    "    gain = gain.replace(0,1e-5)\n",
    "    loss = loss.replace(0, 1e-5)\n",
    "    rs = gain / loss\n",
    "    rsi = 100 - (100 / (1 + rs))\n",
    "    data[f'rsi_{period}'] = rsi\n",
    "    return rsi\n",
    "calculate_rsi(dataDF)\n",
    "print(dataDF[\"rsi_14\"])"
   ]
  },
  {
   "cell_type": "markdown",
   "metadata": {},
   "source": [
    "### MACD calculation"
   ]
  },
  {
   "cell_type": "code",
   "execution_count": 11,
   "metadata": {},
   "outputs": [
    {
     "data": {
      "text/html": [
       "<div>\n",
       "<style scoped>\n",
       "    .dataframe tbody tr th:only-of-type {\n",
       "        vertical-align: middle;\n",
       "    }\n",
       "\n",
       "    .dataframe tbody tr th {\n",
       "        vertical-align: top;\n",
       "    }\n",
       "\n",
       "    .dataframe thead th {\n",
       "        text-align: right;\n",
       "    }\n",
       "</style>\n",
       "<table border=\"1\" class=\"dataframe\">\n",
       "  <thead>\n",
       "    <tr style=\"text-align: right;\">\n",
       "      <th></th>\n",
       "      <th>MACD</th>\n",
       "      <th>Signal</th>\n",
       "      <th>Histogram</th>\n",
       "    </tr>\n",
       "    <tr>\n",
       "      <th>Datetime</th>\n",
       "      <th></th>\n",
       "      <th></th>\n",
       "      <th></th>\n",
       "    </tr>\n",
       "  </thead>\n",
       "  <tbody>\n",
       "    <tr>\n",
       "      <th>2025-02-28 18:30:00+00:00</th>\n",
       "      <td>0.000000</td>\n",
       "      <td>0.000000</td>\n",
       "      <td>0.000000</td>\n",
       "    </tr>\n",
       "    <tr>\n",
       "      <th>2025-02-28 19:30:00+00:00</th>\n",
       "      <td>0.038029</td>\n",
       "      <td>0.021127</td>\n",
       "      <td>0.016902</td>\n",
       "    </tr>\n",
       "    <tr>\n",
       "      <th>2025-02-28 20:30:00+00:00</th>\n",
       "      <td>0.083963</td>\n",
       "      <td>0.046879</td>\n",
       "      <td>0.037083</td>\n",
       "    </tr>\n",
       "    <tr>\n",
       "      <th>2025-03-03 14:30:00+00:00</th>\n",
       "      <td>0.114350</td>\n",
       "      <td>0.069735</td>\n",
       "      <td>0.044615</td>\n",
       "    </tr>\n",
       "    <tr>\n",
       "      <th>2025-03-03 15:30:00+00:00</th>\n",
       "      <td>0.108558</td>\n",
       "      <td>0.081284</td>\n",
       "      <td>0.027274</td>\n",
       "    </tr>\n",
       "    <tr>\n",
       "      <th>...</th>\n",
       "      <td>...</td>\n",
       "      <td>...</td>\n",
       "      <td>...</td>\n",
       "    </tr>\n",
       "    <tr>\n",
       "      <th>2025-03-31 13:30:00+00:00</th>\n",
       "      <td>-3.526979</td>\n",
       "      <td>-2.497183</td>\n",
       "      <td>-1.029797</td>\n",
       "    </tr>\n",
       "    <tr>\n",
       "      <th>2025-03-31 14:30:00+00:00</th>\n",
       "      <td>-3.628976</td>\n",
       "      <td>-2.723541</td>\n",
       "      <td>-0.905434</td>\n",
       "    </tr>\n",
       "    <tr>\n",
       "      <th>2025-03-31 15:30:00+00:00</th>\n",
       "      <td>-3.562234</td>\n",
       "      <td>-2.891280</td>\n",
       "      <td>-0.670954</td>\n",
       "    </tr>\n",
       "    <tr>\n",
       "      <th>2025-03-31 16:30:00+00:00</th>\n",
       "      <td>-3.487696</td>\n",
       "      <td>-3.010563</td>\n",
       "      <td>-0.477133</td>\n",
       "    </tr>\n",
       "    <tr>\n",
       "      <th>2025-03-31 17:30:00+00:00</th>\n",
       "      <td>-3.364025</td>\n",
       "      <td>-3.081255</td>\n",
       "      <td>-0.282769</td>\n",
       "    </tr>\n",
       "  </tbody>\n",
       "</table>\n",
       "<p>148 rows × 3 columns</p>\n",
       "</div>"
      ],
      "text/plain": [
       "                               MACD    Signal  Histogram\n",
       "Datetime                                                \n",
       "2025-02-28 18:30:00+00:00  0.000000  0.000000   0.000000\n",
       "2025-02-28 19:30:00+00:00  0.038029  0.021127   0.016902\n",
       "2025-02-28 20:30:00+00:00  0.083963  0.046879   0.037083\n",
       "2025-03-03 14:30:00+00:00  0.114350  0.069735   0.044615\n",
       "2025-03-03 15:30:00+00:00  0.108558  0.081284   0.027274\n",
       "...                             ...       ...        ...\n",
       "2025-03-31 13:30:00+00:00 -3.526979 -2.497183  -1.029797\n",
       "2025-03-31 14:30:00+00:00 -3.628976 -2.723541  -0.905434\n",
       "2025-03-31 15:30:00+00:00 -3.562234 -2.891280  -0.670954\n",
       "2025-03-31 16:30:00+00:00 -3.487696 -3.010563  -0.477133\n",
       "2025-03-31 17:30:00+00:00 -3.364025 -3.081255  -0.282769\n",
       "\n",
       "[148 rows x 3 columns]"
      ]
     },
     "execution_count": 11,
     "metadata": {},
     "output_type": "execute_result"
    }
   ],
   "source": [
    "def calculate_macd(data, short_window=12, long_window=26, signal_window=9):\n",
    "    if f'EMA_{short_window}' not in data.columns:\n",
    "        data[f'EMA_{short_window}'] = calc_exp_average(data,short_window)\n",
    "    if f'EMA_{long_window}' not in data.columns:\n",
    "        data[f'EMA_{long_window}'] = calc_exp_average(data,long_window)\n",
    "    data['MACD'] = data[f'EMA_{short_window}'] - data[f'EMA_{long_window}']\n",
    "    data['Signal'] = calc_exp_average(data,\"MACD\",signal_window)\n",
    "    data['Histogram'] = data['MACD'] - data['Signal']\n",
    "    return data[['MACD', 'Signal', 'Histogram']]\n",
    "calculate_macd(dataDF)"
   ]
  },
  {
   "cell_type": "code",
   "execution_count": 12,
   "metadata": {},
   "outputs": [],
   "source": [
    "#plot_lines([\"MACD\",\"Signal\",\"Histogram\"])"
   ]
  },
  {
   "cell_type": "code",
   "execution_count": 13,
   "metadata": {},
   "outputs": [],
   "source": [
    "#plot_lines([\"rsi_14\"])"
   ]
  },
  {
   "cell_type": "markdown",
   "metadata": {},
   "source": [
    "### volatility calculation"
   ]
  },
  {
   "cell_type": "code",
   "execution_count": 14,
   "metadata": {},
   "outputs": [
    {
     "data": {
      "text/plain": [
       "Datetime\n",
       "2025-02-28 18:30:00+00:00    0.000001\n",
       "2025-02-28 19:30:00+00:00    1.198540\n",
       "2025-02-28 20:30:00+00:00    1.428846\n",
       "2025-03-03 14:30:00+00:00    1.428395\n",
       "2025-03-03 15:30:00+00:00    1.280096\n",
       "                               ...   \n",
       "2025-03-31 13:30:00+00:00    4.424966\n",
       "2025-03-31 14:30:00+00:00    4.403503\n",
       "2025-03-31 15:30:00+00:00    4.160359\n",
       "2025-03-31 16:30:00+00:00    3.854376\n",
       "2025-03-31 17:30:00+00:00    3.423272\n",
       "Name: vol_14, Length: 148, dtype: float64"
      ]
     },
     "execution_count": 14,
     "metadata": {},
     "output_type": "execute_result"
    }
   ],
   "source": [
    "def calculate_volatility(data,window=14):\n",
    "    data[f\"vol_{window}\"] = data[\"close\"].rolling(window=window,min_periods=1).std()\n",
    "    data[f\"vol_{window}\"]=data[f\"vol_{window}\"].fillna(1e-6)\n",
    "    return data[f\"vol_{window}\"]\n",
    "calculate_volatility(dataDF)"
   ]
  },
  {
   "cell_type": "code",
   "execution_count": 15,
   "metadata": {},
   "outputs": [],
   "source": [
    "#plot_lines([\"vol_14\"])"
   ]
  },
  {
   "cell_type": "markdown",
   "metadata": {},
   "source": [
    "### bollinger band calculation"
   ]
  },
  {
   "cell_type": "code",
   "execution_count": 16,
   "metadata": {},
   "outputs": [
    {
     "data": {
      "text/html": [
       "<div>\n",
       "<style scoped>\n",
       "    .dataframe tbody tr th:only-of-type {\n",
       "        vertical-align: middle;\n",
       "    }\n",
       "\n",
       "    .dataframe tbody tr th {\n",
       "        vertical-align: top;\n",
       "    }\n",
       "\n",
       "    .dataframe thead th {\n",
       "        text-align: right;\n",
       "    }\n",
       "</style>\n",
       "<table border=\"1\" class=\"dataframe\">\n",
       "  <thead>\n",
       "    <tr style=\"text-align: right;\">\n",
       "      <th></th>\n",
       "      <th>upr_band</th>\n",
       "      <th>lwr_band</th>\n",
       "      <th>band_width</th>\n",
       "      <th>%B</th>\n",
       "    </tr>\n",
       "    <tr>\n",
       "      <th>Datetime</th>\n",
       "      <th></th>\n",
       "      <th></th>\n",
       "      <th></th>\n",
       "      <th></th>\n",
       "    </tr>\n",
       "  </thead>\n",
       "  <tbody>\n",
       "    <tr>\n",
       "      <th>2025-02-28 18:30:00+00:00</th>\n",
       "      <td>169.320005</td>\n",
       "      <td>169.320009</td>\n",
       "      <td>-2.362391e-08</td>\n",
       "      <td>0.666667</td>\n",
       "    </tr>\n",
       "    <tr>\n",
       "      <th>2025-02-28 19:30:00+00:00</th>\n",
       "      <td>167.770423</td>\n",
       "      <td>172.564584</td>\n",
       "      <td>-2.817319e-02</td>\n",
       "      <td>0.323223</td>\n",
       "    </tr>\n",
       "    <tr>\n",
       "      <th>2025-02-28 20:30:00+00:00</th>\n",
       "      <td>167.973977</td>\n",
       "      <td>173.689363</td>\n",
       "      <td>-3.345624e-02</td>\n",
       "      <td>0.267586</td>\n",
       "    </tr>\n",
       "    <tr>\n",
       "      <th>2025-03-03 14:30:00+00:00</th>\n",
       "      <td>168.386961</td>\n",
       "      <td>174.100542</td>\n",
       "      <td>-3.336519e-02</td>\n",
       "      <td>0.283631</td>\n",
       "    </tr>\n",
       "    <tr>\n",
       "      <th>2025-03-03 15:30:00+00:00</th>\n",
       "      <td>168.830809</td>\n",
       "      <td>173.951192</td>\n",
       "      <td>-2.987545e-02</td>\n",
       "      <td>0.384971</td>\n",
       "    </tr>\n",
       "    <tr>\n",
       "      <th>...</th>\n",
       "      <td>...</td>\n",
       "      <td>...</td>\n",
       "      <td>...</td>\n",
       "      <td>...</td>\n",
       "    </tr>\n",
       "    <tr>\n",
       "      <th>2025-03-31 13:30:00+00:00</th>\n",
       "      <td>151.512783</td>\n",
       "      <td>169.212648</td>\n",
       "      <td>-1.103739e-01</td>\n",
       "      <td>0.907502</td>\n",
       "    </tr>\n",
       "    <tr>\n",
       "      <th>2025-03-31 14:30:00+00:00</th>\n",
       "      <td>150.735710</td>\n",
       "      <td>168.349721</td>\n",
       "      <td>-1.104031e-01</td>\n",
       "      <td>0.796509</td>\n",
       "    </tr>\n",
       "    <tr>\n",
       "      <th>2025-03-31 15:30:00+00:00</th>\n",
       "      <td>150.518426</td>\n",
       "      <td>167.159862</td>\n",
       "      <td>-1.047691e-01</td>\n",
       "      <td>0.692240</td>\n",
       "    </tr>\n",
       "    <tr>\n",
       "      <th>2025-03-31 16:30:00+00:00</th>\n",
       "      <td>150.450035</td>\n",
       "      <td>165.867540</td>\n",
       "      <td>-9.748118e-02</td>\n",
       "      <td>0.678290</td>\n",
       "    </tr>\n",
       "    <tr>\n",
       "      <th>2025-03-31 17:30:00+00:00</th>\n",
       "      <td>150.680815</td>\n",
       "      <td>164.373901</td>\n",
       "      <td>-8.692513e-02</td>\n",
       "      <td>0.631261</td>\n",
       "    </tr>\n",
       "  </tbody>\n",
       "</table>\n",
       "<p>148 rows × 4 columns</p>\n",
       "</div>"
      ],
      "text/plain": [
       "                             upr_band    lwr_band    band_width        %B\n",
       "Datetime                                                                 \n",
       "2025-02-28 18:30:00+00:00  169.320005  169.320009 -2.362391e-08  0.666667\n",
       "2025-02-28 19:30:00+00:00  167.770423  172.564584 -2.817319e-02  0.323223\n",
       "2025-02-28 20:30:00+00:00  167.973977  173.689363 -3.345624e-02  0.267586\n",
       "2025-03-03 14:30:00+00:00  168.386961  174.100542 -3.336519e-02  0.283631\n",
       "2025-03-03 15:30:00+00:00  168.830809  173.951192 -2.987545e-02  0.384971\n",
       "...                               ...         ...           ...       ...\n",
       "2025-03-31 13:30:00+00:00  151.512783  169.212648 -1.103739e-01  0.907502\n",
       "2025-03-31 14:30:00+00:00  150.735710  168.349721 -1.104031e-01  0.796509\n",
       "2025-03-31 15:30:00+00:00  150.518426  167.159862 -1.047691e-01  0.692240\n",
       "2025-03-31 16:30:00+00:00  150.450035  165.867540 -9.748118e-02  0.678290\n",
       "2025-03-31 17:30:00+00:00  150.680815  164.373901 -8.692513e-02  0.631261\n",
       "\n",
       "[148 rows x 4 columns]"
      ]
     },
     "execution_count": 16,
     "metadata": {},
     "output_type": "execute_result"
    }
   ],
   "source": [
    "def calculate_bollinger_bands(data,window=14):\n",
    "    if f\"SMA_{window}\" not in data.columns:\n",
    "        data[f\"SMA_{window}\"] = calc_moving_average(data,prevCandles=window)\n",
    "    data[\"upr_band\"] =data[f\"SMA_{window}\"] -2*data[f\"vol_{window}\"] \n",
    "    data[\"lwr_band\"] =data[f\"SMA_{window}\"] +2*data[f\"vol_{window}\"] \n",
    "    data['band_width'] = (data['upr_band'] - data['lwr_band']) / (data[f'SMA_{window}']+1e-6)\n",
    "    data['%B'] = (data['close'] - data['lwr_band']) / (data['upr_band'] - data['lwr_band']+1e-6)\n",
    "    return data[[\"upr_band\",\"lwr_band\",\"band_width\",\"%B\"]]\n",
    "calculate_bollinger_bands(dataDF)"
   ]
  },
  {
   "cell_type": "code",
   "execution_count": 17,
   "metadata": {},
   "outputs": [],
   "source": [
    "#plot_lines([\"lwr_band\",\"upr_band\"])"
   ]
  },
  {
   "cell_type": "code",
   "execution_count": 18,
   "metadata": {},
   "outputs": [],
   "source": [
    "##plot_lines([\"band_width\",\"%B\"])"
   ]
  },
  {
   "cell_type": "markdown",
   "metadata": {},
   "source": [
    "### VWAP calculation"
   ]
  },
  {
   "cell_type": "code",
   "execution_count": 19,
   "metadata": {},
   "outputs": [
    {
     "data": {
      "text/plain": [
       "Datetime\n",
       "2025-02-28 18:30:00+00:00      0.000000\n",
       "2025-02-28 19:30:00+00:00    171.014999\n",
       "2025-02-28 20:30:00+00:00    171.745223\n",
       "2025-03-03 14:30:00+00:00    172.124651\n",
       "2025-03-03 15:30:00+00:00    172.104214\n",
       "                                ...    \n",
       "2025-03-31 13:30:00+00:00    167.020852\n",
       "2025-03-31 14:30:00+00:00    166.911927\n",
       "2025-03-31 15:30:00+00:00    166.817644\n",
       "2025-03-31 16:30:00+00:00    166.757718\n",
       "2025-03-31 17:30:00+00:00    166.700496\n",
       "Name: VWAP, Length: 148, dtype: float64"
      ]
     },
     "execution_count": 19,
     "metadata": {},
     "output_type": "execute_result"
    }
   ],
   "source": [
    "def calculate_VWAP(data):\n",
    "    data['VWAP'] = (data['close'] * data['volume']).cumsum() / (data['volume'].cumsum()+1e-6)\n",
    "    return data[\"VWAP\"]\n",
    "calculate_VWAP(dataDF)"
   ]
  },
  {
   "cell_type": "code",
   "execution_count": 20,
   "metadata": {},
   "outputs": [],
   "source": [
    "#plot_lines([\"VWAP\",\"close\"])"
   ]
  },
  {
   "cell_type": "code",
   "execution_count": 21,
   "metadata": {},
   "outputs": [
    {
     "data": {
      "text/plain": [
       "Datetime\n",
       "2025-02-28 18:30:00+00:00    0.000000e+00\n",
       "2025-02-28 19:30:00+00:00    1.006191e+06\n",
       "2025-02-28 20:30:00+00:00    1.563497e+06\n",
       "2025-03-03 14:30:00+00:00    1.321278e+06\n",
       "2025-03-03 15:30:00+00:00    1.741623e+06\n",
       "                                 ...     \n",
       "2025-03-31 13:30:00+00:00    2.271987e+06\n",
       "2025-03-31 14:30:00+00:00    1.986459e+06\n",
       "2025-03-31 15:30:00+00:00    1.755080e+06\n",
       "2025-03-31 16:30:00+00:00    1.483137e+06\n",
       "2025-03-31 17:30:00+00:00    1.731031e+06\n",
       "Name: VPR, Length: 148, dtype: float64"
      ]
     },
     "execution_count": 21,
     "metadata": {},
     "output_type": "execute_result"
    }
   ],
   "source": [
    "def calculate_VPR(data):\n",
    "    data['VPR'] = data['volume'] / (data['high'] - data['low']+1e-6)\n",
    "    return data[\"VPR\"]\n",
    "calculate_VPR(dataDF)\n",
    "#plot_lines([\"VPR\"])"
   ]
  },
  {
   "cell_type": "code",
   "execution_count": 22,
   "metadata": {},
   "outputs": [
    {
     "name": "stdout",
     "output_type": "stream",
     "text": [
      "Index(['close', 'high', 'low', 'open', 'volume', 'SMA_50', 'SMA_20', 'EMA_12',\n",
      "       'EMA_26', 'rsi_14', 'MACD', 'EMA_9', 'Signal', 'Histogram', 'vol_14',\n",
      "       'SMA_14', 'upr_band', 'lwr_band', 'band_width', '%B', 'VWAP', 'VPR'],\n",
      "      dtype='object')\n"
     ]
    }
   ],
   "source": [
    "print(dataDF.columns)"
   ]
  },
  {
   "cell_type": "code",
   "execution_count": 23,
   "metadata": {},
   "outputs": [],
   "source": [
    "lag_features = [\"close\",\"high\",\"low\",\"open\",\"volume\"]\n",
    "for feat in lag_features:\n",
    "    dataDF[feat+\"_lag\"] = dataDF[feat].shift(1)"
   ]
  },
  {
   "cell_type": "code",
   "execution_count": 24,
   "metadata": {},
   "outputs": [],
   "source": [
    "dataDF[\"prediction\"] = dataDF[\"close\"].shift(-1)\n",
    "dataDF.dropna(inplace=True) #we don't need to do that but the loss of data is neglegible (don't do it for transformer mnodel becuase we don't even use those features)\n",
    "dataDF[\"symbol\"] =2"
   ]
  },
  {
   "cell_type": "code",
   "execution_count": 25,
   "metadata": {},
   "outputs": [],
   "source": [
    "columns = list(dataDF.columns)\n",
    "columns.remove(\"prediction\")\n",
    "X = np.array(dataDF[columns])\n",
    "Y = np.array(dataDF[\"prediction\"]).reshape(-1,1)"
   ]
  },
  {
   "cell_type": "code",
   "execution_count": 26,
   "metadata": {},
   "outputs": [],
   "source": [
    "scaler = StandardScaler()\n",
    "X = scaler.fit_transform(X)\n",
    "mmscaler = MinMaxScaler((-1,1))\n",
    "Y =mmscaler.fit_transform(Y)"
   ]
  },
  {
   "cell_type": "code",
   "execution_count": 27,
   "metadata": {},
   "outputs": [],
   "source": [
    "np.save(\"data1.npy\",X)\n",
    "np.save(\"labels1.npy\",Y)"
   ]
  },
  {
   "cell_type": "code",
   "execution_count": 28,
   "metadata": {},
   "outputs": [],
   "source": [
    "listing = pd.read_csv(\"listing_status.csv\")\n",
    "symbols = list(listing[\"symbol\"].values)"
   ]
  },
  {
   "cell_type": "code",
   "execution_count": 29,
   "metadata": {},
   "outputs": [
    {
     "name": "stdout",
     "output_type": "stream",
     "text": [
      "AA\n",
      "AAA\n",
      "AAAU\n",
      "AACG\n",
      "AACT\n"
     ]
    },
    {
     "name": "stderr",
     "output_type": "stream",
     "text": [
      "404 Client Error: Not Found for url: https://query2.finance.yahoo.com/v10/finance/quoteSummary/AACT-U?modules=financialData%2CquoteType%2CdefaultKeyStatistics%2CassetProfile%2CsummaryDetail&corsDomain=finance.yahoo.com&formatted=false&symbol=AACT-U&crumb=.zwuFTwEhtt\n",
      "$AACT-WS: possibly delisted; no timezone found\n"
     ]
    },
    {
     "name": "stdout",
     "output_type": "stream",
     "text": [
      "AADR\n",
      "AAL\n",
      "AAM\n"
     ]
    },
    {
     "name": "stderr",
     "output_type": "stream",
     "text": [
      "$AAM-U: possibly delisted; no timezone found\n",
      "$AAM-WS: possibly delisted; no timezone found\n"
     ]
    },
    {
     "name": "stdout",
     "output_type": "stream",
     "text": [
      "AAME\n",
      "AAMI\n",
      "AAOI\n",
      "AAON\n",
      "AAP\n",
      "AAPB\n",
      "AAPD\n"
     ]
    },
    {
     "name": "stderr",
     "output_type": "stream",
     "text": [
      "$AAPGV: possibly delisted; no price data found  (1d 1926-04-25 -> 2025-03-31) (Yahoo error = \"No data found, symbol may be delisted\")\n"
     ]
    },
    {
     "name": "stdout",
     "output_type": "stream",
     "text": [
      "AAPL\n",
      "AAPR\n",
      "AAPU\n",
      "AAPX\n",
      "AAPY\n",
      "AAT\n",
      "AAVM\n",
      "AAXJ\n",
      "AB\n",
      "ABAT\n",
      "ABBV\n",
      "ABCB\n",
      "ABCL\n",
      "ABCS\n",
      "ABEO\n",
      "ABEQ\n",
      "ABEV\n",
      "ABFL\n",
      "ABG\n",
      "ABHY\n",
      "ABL\n",
      "ABLD\n",
      "ABLG\n",
      "ABLLL\n"
     ]
    },
    {
     "name": "stderr",
     "output_type": "stream",
     "text": [
      "ABLLW: Period 'max' is invalid, must be of the format 1d, 5d, etc.\n",
      "ABLVW: Period 'max' is invalid, must be of the format 1d, 5d, etc.\n"
     ]
    },
    {
     "name": "stdout",
     "output_type": "stream",
     "text": [
      "ABLV\n",
      "ABM\n",
      "ABNB\n",
      "ABNY\n",
      "ABOS\n"
     ]
    },
    {
     "name": "stderr",
     "output_type": "stream",
     "text": [
      "ABPWW: Period 'max' is invalid, must be of the format 1d, 5d, etc.\n"
     ]
    },
    {
     "name": "stdout",
     "output_type": "stream",
     "text": [
      "ABOT\n",
      "ABR\n"
     ]
    },
    {
     "name": "stderr",
     "output_type": "stream",
     "text": [
      "$ABR-P-D: possibly delisted; no timezone found\n",
      "$ABR-P-E: possibly delisted; no timezone found\n",
      "$ABR-P-F: possibly delisted; no timezone found\n"
     ]
    },
    {
     "name": "stdout",
     "output_type": "stream",
     "text": [
      "ABSI\n"
     ]
    },
    {
     "name": "stderr",
     "output_type": "stream",
     "text": [
      "$ABST: possibly delisted; no timezone found\n"
     ]
    },
    {
     "name": "stdout",
     "output_type": "stream",
     "text": [
      "ABT\n",
      "ABTS\n",
      "ABUS\n",
      "ABVC\n",
      "ABVE\n"
     ]
    },
    {
     "name": "stderr",
     "output_type": "stream",
     "text": [
      "ABVEW: Period 'max' is invalid, must be of the format 1d, 5d, etc.\n"
     ]
    },
    {
     "name": "stdout",
     "output_type": "stream",
     "text": [
      "ABVX\n",
      "AC\n",
      "ACA\n",
      "ACAD\n",
      "ACB\n",
      "ACCD\n",
      "ACCO\n",
      "ACCS\n",
      "ACDC\n",
      "ACEL\n",
      "ACES\n",
      "ACET\n",
      "ACGL\n",
      "ACGLN\n",
      "ACGLO\n",
      "ACGR\n",
      "ACHC\n",
      "ACHL\n",
      "ACHR\n"
     ]
    },
    {
     "name": "stderr",
     "output_type": "stream",
     "text": [
      "$ACHR-WS: possibly delisted; no timezone found\n"
     ]
    },
    {
     "name": "stdout",
     "output_type": "stream",
     "text": [
      "ACHV\n",
      "ACI\n",
      "ACIC\n",
      "ACIO\n",
      "ACIU\n",
      "ACIW\n",
      "ACLC\n",
      "ACLS\n",
      "ACLX\n",
      "ACM\n",
      "ACMR\n",
      "ACN\n",
      "ACNB\n",
      "ACNT\n"
     ]
    },
    {
     "name": "stderr",
     "output_type": "stream",
     "text": [
      "ACONW: Period 'max' is invalid, must be of the format 1d, 5d, etc.\n"
     ]
    },
    {
     "name": "stdout",
     "output_type": "stream",
     "text": [
      "ACON\n",
      "ACP\n"
     ]
    },
    {
     "name": "stderr",
     "output_type": "stream",
     "text": [
      "$ACP-P-A: possibly delisted; no timezone found\n"
     ]
    },
    {
     "name": "stdout",
     "output_type": "stream",
     "text": [
      "ACR\n"
     ]
    },
    {
     "name": "stderr",
     "output_type": "stream",
     "text": [
      "$ACR-P-C: possibly delisted; no timezone found\n",
      "$ACR-P-D: possibly delisted; no timezone found\n"
     ]
    },
    {
     "name": "stdout",
     "output_type": "stream",
     "text": [
      "ACRE\n",
      "ACRS\n",
      "ACRV\n",
      "ACSI\n"
     ]
    },
    {
     "name": "stderr",
     "output_type": "stream",
     "text": [
      "$ACST: possibly delisted; no timezone found\n"
     ]
    },
    {
     "name": "stdout",
     "output_type": "stream",
     "text": [
      "ACT\n",
      "ACTG\n",
      "ACTU\n",
      "ACTV\n",
      "ACU\n",
      "ACV\n",
      "ACVA\n",
      "ACVF\n",
      "ACWI\n",
      "ACWV\n",
      "ACWX\n",
      "ACXP\n",
      "ADAG\n"
     ]
    },
    {
     "name": "stderr",
     "output_type": "stream",
     "text": [
      "$ADAL: possibly delisted; no timezone found\n",
      "$ADALU: possibly delisted; no timezone found\n",
      "$ADALW: possibly delisted; no timezone found\n"
     ]
    },
    {
     "name": "stdout",
     "output_type": "stream",
     "text": [
      "ADAP\n",
      "ADBE\n",
      "ADC\n"
     ]
    },
    {
     "name": "stderr",
     "output_type": "stream",
     "text": [
      "$ADC-P-A: possibly delisted; no timezone found\n"
     ]
    },
    {
     "name": "stdout",
     "output_type": "stream",
     "text": [
      "ADCT\n",
      "ADD\n",
      "ADEA\n",
      "ADFI\n",
      "ADGM\n",
      "ADI\n",
      "ADIL\n",
      "ADIV\n",
      "ADM\n",
      "ADMA\n",
      "ADME\n",
      "ADN\n"
     ]
    },
    {
     "name": "stderr",
     "output_type": "stream",
     "text": [
      "ADNWW: Period 'max' is invalid, must be of the format 1d, 5d, etc.\n"
     ]
    },
    {
     "name": "stdout",
     "output_type": "stream",
     "text": [
      "ADNT\n"
     ]
    },
    {
     "name": "stderr",
     "output_type": "stream",
     "text": [
      "$ADOCR: possibly delisted; no timezone found\n"
     ]
    },
    {
     "name": "stdout",
     "output_type": "stream",
     "text": [
      "ADP\n",
      "ADPT\n",
      "ADPV\n",
      "ADSE\n"
     ]
    },
    {
     "name": "stderr",
     "output_type": "stream",
     "text": [
      "ADSEW: Period 'max' is invalid, must be of the format 1d, 5d, etc.\n"
     ]
    },
    {
     "name": "stdout",
     "output_type": "stream",
     "text": [
      "ADSK\n",
      "ADT\n",
      "ADTN\n",
      "ADTX\n",
      "ADUS\n",
      "ADV\n",
      "ADVE\n",
      "ADVM\n",
      "ADX\n",
      "ADXN\n",
      "AEAE\n"
     ]
    },
    {
     "name": "stderr",
     "output_type": "stream",
     "text": [
      "AEAEW: Period 'max' is invalid, must be of the format 1d, 5d, etc.\n"
     ]
    },
    {
     "name": "stdout",
     "output_type": "stream",
     "text": [
      "AEAEU\n",
      "AEE\n",
      "AEF\n",
      "AEFC\n",
      "AEG\n"
     ]
    },
    {
     "name": "stderr",
     "output_type": "stream",
     "text": [
      "$AEHA: possibly delisted; no timezone found\n"
     ]
    },
    {
     "name": "stdout",
     "output_type": "stream",
     "text": [
      "AEHL\n",
      "AEHR\n",
      "AEI\n",
      "AEIS\n",
      "AEM\n",
      "AEMD\n",
      "AENT\n"
     ]
    },
    {
     "name": "stderr",
     "output_type": "stream",
     "text": [
      "AENTW: Period 'max' is invalid, must be of the format 1d, 5d, etc.\n"
     ]
    },
    {
     "name": "stdout",
     "output_type": "stream",
     "text": [
      "AEO\n",
      "AEON\n",
      "AEP\n"
     ]
    },
    {
     "name": "stderr",
     "output_type": "stream",
     "text": [
      "$AEPPZ: possibly delisted; no timezone found\n"
     ]
    },
    {
     "name": "stdout",
     "output_type": "stream",
     "text": [
      "AER\n",
      "AERT\n"
     ]
    },
    {
     "name": "stderr",
     "output_type": "stream",
     "text": [
      "AERTW: Period 'max' is invalid, must be of the format 1d, 5d, etc.\n"
     ]
    },
    {
     "name": "stdout",
     "output_type": "stream",
     "text": [
      "AES\n",
      "AESI\n",
      "AESR\n",
      "AETH\n"
     ]
    },
    {
     "name": "stderr",
     "output_type": "stream",
     "text": [
      "AEVAW: Period 'max' is invalid, must be of the format 1d, 5d, etc.\n"
     ]
    },
    {
     "name": "stdout",
     "output_type": "stream",
     "text": [
      "AEVA\n",
      "AEYE\n",
      "AFB\n",
      "AFBI\n",
      "AFCG\n",
      "AFG\n",
      "AFGB\n",
      "AFGC\n",
      "AFGD\n",
      "AFGE\n",
      "AFIF\n"
     ]
    },
    {
     "name": "stderr",
     "output_type": "stream",
     "text": [
      "AFJKR: Period 'max' is invalid, must be of the format 1d, 5d, etc.\n"
     ]
    },
    {
     "name": "stdout",
     "output_type": "stream",
     "text": [
      "AFJK\n",
      "AFJKU\n",
      "AFK\n",
      "AFL\n",
      "AFLG\n",
      "AFMC\n",
      "AFMD\n",
      "AFRI\n"
     ]
    },
    {
     "name": "stderr",
     "output_type": "stream",
     "text": [
      "AFRIW: Period 'max' is invalid, must be of the format 1d, 5d, etc.\n"
     ]
    },
    {
     "name": "stdout",
     "output_type": "stream",
     "text": [
      "AFRM\n",
      "AFSM\n"
     ]
    },
    {
     "name": "stderr",
     "output_type": "stream",
     "text": [
      "$AFT: possibly delisted; no timezone found\n"
     ]
    },
    {
     "name": "stdout",
     "output_type": "stream",
     "text": [
      "AFYA\n",
      "AG\n",
      "AGAE\n",
      "AGCO\n",
      "AGD\n",
      "AGEN\n"
     ]
    },
    {
     "name": "stderr",
     "output_type": "stream",
     "text": [
      "$AGFS: possibly delisted; no timezone found\n"
     ]
    },
    {
     "name": "stdout",
     "output_type": "stream",
     "text": [
      "AGFY\n",
      "AGG\n",
      "AGGH\n",
      "AGGS\n",
      "AGGY\n",
      "AGI\n",
      "AGIH\n",
      "AGIO\n",
      "AGIX\n",
      "AGL\n",
      "AGM\n",
      "AGM-A\n"
     ]
    },
    {
     "name": "stderr",
     "output_type": "stream",
     "text": [
      "$AGM-P-D: possibly delisted; no timezone found\n",
      "$AGM-P-E: possibly delisted; no timezone found\n",
      "$AGM-P-F: possibly delisted; no timezone found\n",
      "$AGM-P-G: possibly delisted; no timezone found\n"
     ]
    },
    {
     "name": "stdout",
     "output_type": "stream",
     "text": [
      "AGMH\n",
      "AGMI\n",
      "AGNC\n",
      "AGNCL\n",
      "AGNCM\n",
      "AGNCN\n",
      "AGNCO\n",
      "AGNCP\n",
      "AGNG\n",
      "AGO\n",
      "AGOV\n",
      "AGOX\n",
      "AGQ\n",
      "AGRH\n",
      "AGRI\n",
      "AGRO\n",
      "AGS\n"
     ]
    },
    {
     "name": "stderr",
     "output_type": "stream",
     "text": [
      "$AGTC: possibly delisted; no timezone found\n"
     ]
    },
    {
     "name": "stdout",
     "output_type": "stream",
     "text": [
      "AGX\n",
      "AGYS\n",
      "AGZ\n",
      "AGZD\n",
      "AHCO\n",
      "AHG\n",
      "AHH\n"
     ]
    },
    {
     "name": "stderr",
     "output_type": "stream",
     "text": [
      "$AHH-P-A: possibly delisted; no timezone found\n"
     ]
    },
    {
     "name": "stdout",
     "output_type": "stream",
     "text": [
      "AHI\n"
     ]
    },
    {
     "name": "stderr",
     "output_type": "stream",
     "text": [
      "$AHL-P-D: possibly delisted; no timezone found\n",
      "$AHL-P-E: possibly delisted; no timezone found\n"
     ]
    },
    {
     "name": "stdout",
     "output_type": "stream",
     "text": [
      "AHLT\n",
      "AHR\n"
     ]
    },
    {
     "name": "stderr",
     "output_type": "stream",
     "text": [
      "$AHRNU: possibly delisted; no timezone found\n"
     ]
    },
    {
     "name": "stdout",
     "output_type": "stream",
     "text": [
      "AHT\n"
     ]
    },
    {
     "name": "stderr",
     "output_type": "stream",
     "text": [
      "$AHT-P-D: possibly delisted; no timezone found\n",
      "$AHT-P-F: possibly delisted; no timezone found\n",
      "$AHT-P-G: possibly delisted; no timezone found\n",
      "$AHT-P-H: possibly delisted; no timezone found\n",
      "$AHT-P-I: possibly delisted; no timezone found\n"
     ]
    },
    {
     "name": "stdout",
     "output_type": "stream",
     "text": [
      "AHYB\n",
      "AI\n",
      "AIA\n",
      "AIBD\n",
      "AIBU\n",
      "AIEQ\n",
      "AIEV\n"
     ]
    },
    {
     "name": "stderr",
     "output_type": "stream",
     "text": [
      "$AIF: possibly delisted; no timezone found\n"
     ]
    },
    {
     "name": "stdout",
     "output_type": "stream",
     "text": [
      "AIFD\n"
     ]
    },
    {
     "name": "stderr",
     "output_type": "stream",
     "text": [
      "AIFER: Period 'max' is invalid, must be of the format 1d, 5d, etc.\n"
     ]
    },
    {
     "name": "stdout",
     "output_type": "stream",
     "text": [
      "AIFF\n",
      "AIFU\n",
      "AIG\n",
      "AIHS\n",
      "AILE\n",
      "AIM\n",
      "AIMAU\n"
     ]
    },
    {
     "name": "stderr",
     "output_type": "stream",
     "text": [
      "AIMAW: Period 'max' is invalid, must be of the format 1d, 5d, etc.\n"
     ]
    },
    {
     "name": "stdout",
     "output_type": "stream",
     "text": [
      "AIMBU\n",
      "AIMD\n"
     ]
    },
    {
     "name": "stderr",
     "output_type": "stream",
     "text": [
      "AIMDW: Period 'max' is invalid, must be of the format 1d, 5d, etc.\n"
     ]
    },
    {
     "name": "stdout",
     "output_type": "stream",
     "text": [
      "AIN\n",
      "AIO\n",
      "AIOT\n",
      "AIP\n",
      "AIPI\n",
      "AIQ\n",
      "AIR\n",
      "AIRE\n",
      "AIRG\n",
      "AIRI\n",
      "AIRJ\n"
     ]
    },
    {
     "name": "stderr",
     "output_type": "stream",
     "text": [
      "AIRJW: Period 'max' is invalid, must be of the format 1d, 5d, etc.\n"
     ]
    },
    {
     "name": "stdout",
     "output_type": "stream",
     "text": [
      "AIRL\n",
      "AIRR\n",
      "AIRS\n",
      "AIRT\n",
      "AIRTP\n",
      "AISP\n"
     ]
    },
    {
     "name": "stderr",
     "output_type": "stream",
     "text": [
      "AISPW: Period 'max' is invalid, must be of the format 1d, 5d, etc.\n"
     ]
    },
    {
     "name": "stdout",
     "output_type": "stream",
     "text": [
      "AIT\n",
      "AITR\n"
     ]
    },
    {
     "name": "stderr",
     "output_type": "stream",
     "text": [
      "AITRR: Period 'max' is invalid, must be of the format 1d, 5d, etc.\n"
     ]
    },
    {
     "name": "stdout",
     "output_type": "stream",
     "text": [
      "AITRU\n",
      "AIV\n",
      "AIVC\n",
      "AIVI\n",
      "AIVL\n",
      "AIXI\n",
      "AIZ\n",
      "AIZN\n",
      "AJAN\n",
      "AJG\n",
      "AJUL\n"
     ]
    },
    {
     "name": "stderr",
     "output_type": "stream",
     "text": [
      "$AJXA: possibly delisted; no timezone found\n"
     ]
    },
    {
     "name": "stdout",
     "output_type": "stream",
     "text": [
      "AKA\n",
      "AKAM\n",
      "AKAN\n",
      "AKBA\n",
      "AKO-A\n",
      "AKO-B\n",
      "AKR\n",
      "AKRO\n",
      "AKTX\n"
     ]
    },
    {
     "name": "stderr",
     "output_type": "stream",
     "text": [
      "$AKUS: possibly delisted; no timezone found\n"
     ]
    },
    {
     "name": "stdout",
     "output_type": "stream",
     "text": [
      "AKYA\n",
      "AL\n",
      "ALAB\n",
      "ALAI\n",
      "ALAR\n",
      "ALB\n",
      "ALBT\n",
      "ALC\n",
      "ALCO\n",
      "ALCY\n"
     ]
    },
    {
     "name": "stderr",
     "output_type": "stream",
     "text": [
      "ALCYW: Period 'max' is invalid, must be of the format 1d, 5d, etc.\n"
     ]
    },
    {
     "name": "stdout",
     "output_type": "stream",
     "text": [
      "ALCYU\n"
     ]
    },
    {
     "name": "stderr",
     "output_type": "stream",
     "text": [
      "ALDFW: Period 'max' is invalid, must be of the format 1d, 5d, etc.\n"
     ]
    },
    {
     "name": "stdout",
     "output_type": "stream",
     "text": [
      "ALDFU\n",
      "ALDX\n",
      "ALE\n",
      "ALEC\n",
      "ALEX\n",
      "ALF\n"
     ]
    },
    {
     "name": "stderr",
     "output_type": "stream",
     "text": [
      "ALFUW: Period 'max' is invalid, must be of the format 1d, 5d, etc.\n"
     ]
    },
    {
     "name": "stdout",
     "output_type": "stream",
     "text": [
      "ALFUU\n",
      "ALG\n",
      "ALGM\n",
      "ALGN\n",
      "ALGS\n",
      "ALGT\n",
      "ALHC\n",
      "ALIT\n",
      "ALK\n",
      "ALKS\n"
     ]
    },
    {
     "name": "stderr",
     "output_type": "stream",
     "text": [
      "$ALKSV: possibly delisted; no timezone found\n"
     ]
    },
    {
     "name": "stdout",
     "output_type": "stream",
     "text": [
      "ALKT\n",
      "ALL\n"
     ]
    },
    {
     "name": "stderr",
     "output_type": "stream",
     "text": [
      "$ALL-P-B: possibly delisted; no timezone found\n",
      "$ALL-P-H: possibly delisted; no timezone found\n",
      "$ALL-P-I: possibly delisted; no timezone found\n",
      "$ALL-P-J: possibly delisted; no timezone found\n"
     ]
    },
    {
     "name": "stdout",
     "output_type": "stream",
     "text": [
      "ALLE\n"
     ]
    },
    {
     "name": "stderr",
     "output_type": "stream",
     "text": [
      "$ALLG-WS: possibly delisted; no timezone found\n"
     ]
    },
    {
     "name": "stdout",
     "output_type": "stream",
     "text": [
      "ALLK\n",
      "ALLO\n",
      "ALLR\n",
      "ALLT\n",
      "ALLY\n",
      "ALMS\n",
      "ALNT\n",
      "ALNY\n"
     ]
    },
    {
     "name": "stderr",
     "output_type": "stream",
     "text": [
      "$ALOR: possibly delisted; no timezone found\n",
      "$ALORU: possibly delisted; no timezone found\n",
      "$ALORW: possibly delisted; no timezone found\n",
      "ALPS: Period 'max' is invalid, must be of the format 1d, 5d, etc.\n"
     ]
    },
    {
     "name": "stdout",
     "output_type": "stream",
     "text": [
      "ALOT\n",
      "ALRM\n",
      "ALRS\n",
      "ALSN\n",
      "ALT\n",
      "ALTG\n"
     ]
    },
    {
     "name": "stderr",
     "output_type": "stream",
     "text": [
      "$ALTG-P-A: possibly delisted; no timezone found\n"
     ]
    },
    {
     "name": "stdout",
     "output_type": "stream",
     "text": [
      "ALTI\n"
     ]
    },
    {
     "name": "stderr",
     "output_type": "stream",
     "text": [
      "$ALTIW: possibly delisted; no timezone found\n"
     ]
    },
    {
     "name": "stdout",
     "output_type": "stream",
     "text": [
      "ALTL\n",
      "ALTO\n",
      "ALTR\n",
      "ALTS\n",
      "ALTY\n",
      "ALUR\n"
     ]
    },
    {
     "name": "stderr",
     "output_type": "stream",
     "text": [
      "$ALUR-WS: possibly delisted; no timezone found\n"
     ]
    },
    {
     "name": "stdout",
     "output_type": "stream",
     "text": [
      "ALV\n"
     ]
    },
    {
     "name": "stderr",
     "output_type": "stream",
     "text": [
      "ALVOW: Period 'max' is invalid, must be of the format 1d, 5d, etc.\n"
     ]
    },
    {
     "name": "stdout",
     "output_type": "stream",
     "text": [
      "ALVO\n",
      "ALX\n",
      "ALXO\n",
      "ALYAF\n",
      "ALZN\n",
      "AM\n",
      "AMAL\n"
     ]
    },
    {
     "name": "stderr",
     "output_type": "stream",
     "text": [
      "$AMAO: possibly delisted; no timezone found\n",
      "$AMAOW: possibly delisted; no timezone found\n"
     ]
    },
    {
     "name": "stdout",
     "output_type": "stream",
     "text": [
      "AMAT\n",
      "AMAX\n",
      "AMBA\n",
      "AMBC\n",
      "AMBI\n"
     ]
    },
    {
     "name": "stderr",
     "output_type": "stream",
     "text": [
      "$AMBI-WS: possibly delisted; no timezone found\n"
     ]
    },
    {
     "name": "stdout",
     "output_type": "stream",
     "text": [
      "AMBO\n",
      "AMBP\n"
     ]
    },
    {
     "name": "stderr",
     "output_type": "stream",
     "text": [
      "$AMBP-WS: possibly delisted; no timezone found\n"
     ]
    },
    {
     "name": "stdout",
     "output_type": "stream",
     "text": [
      "AMBR\n",
      "AMC\n",
      "AMCR\n",
      "AMCX\n",
      "AMD\n",
      "AMDL\n",
      "AMDS\n",
      "AMDY\n",
      "AME\n",
      "AMED\n"
     ]
    },
    {
     "name": "stderr",
     "output_type": "stream",
     "text": [
      "$AMEH: possibly delisted; no timezone found\n"
     ]
    },
    {
     "name": "stdout",
     "output_type": "stream",
     "text": [
      "AMG\n",
      "AMGN\n",
      "AMH\n"
     ]
    },
    {
     "name": "stderr",
     "output_type": "stream",
     "text": [
      "$AMH-P-G: possibly delisted; no timezone found\n",
      "$AMH-P-H: possibly delisted; no timezone found\n"
     ]
    },
    {
     "name": "stdout",
     "output_type": "stream",
     "text": [
      "AMID\n",
      "AMIX\n",
      "AMJB\n",
      "AMKR\n",
      "AMLP\n",
      "AMLX\n",
      "AMN\n",
      "AMOD\n"
     ]
    },
    {
     "name": "stderr",
     "output_type": "stream",
     "text": [
      "AMODW: Period 'max' is invalid, must be of the format 1d, 5d, etc.\n"
     ]
    },
    {
     "name": "stdout",
     "output_type": "stream",
     "text": [
      "AMOM\n",
      "AMP\n",
      "AMPG\n",
      "AMPGW\n",
      "AMPH\n",
      "AMPL\n",
      "AMPS\n",
      "AMPX\n"
     ]
    },
    {
     "name": "stderr",
     "output_type": "stream",
     "text": [
      "$AMPX-WS: possibly delisted; no timezone found\n"
     ]
    },
    {
     "name": "stdout",
     "output_type": "stream",
     "text": [
      "AMPY\n",
      "AMR\n",
      "AMRC\n",
      "AMRK\n",
      "AMRN\n"
     ]
    },
    {
     "name": "stderr",
     "output_type": "stream",
     "text": [
      "$AMRS: possibly delisted; no timezone found\n"
     ]
    },
    {
     "name": "stdout",
     "output_type": "stream",
     "text": [
      "AMRX\n",
      "AMS\n",
      "AMSC\n",
      "AMSF\n",
      "AMST\n",
      "AMT\n",
      "AMTB\n",
      "AMTD\n",
      "AMTM\n"
     ]
    },
    {
     "name": "stderr",
     "output_type": "stream",
     "text": [
      "$AMTM-W: possibly delisted; no timezone found\n"
     ]
    },
    {
     "name": "stdout",
     "output_type": "stream",
     "text": [
      "AMTX\n",
      "AMUB\n"
     ]
    },
    {
     "name": "stderr",
     "output_type": "stream",
     "text": [
      "$AMV: possibly delisted; no timezone found\n"
     ]
    },
    {
     "name": "stdout",
     "output_type": "stream",
     "text": [
      "AMWD\n",
      "AMWL\n",
      "AMX\n",
      "AMZA\n",
      "AMZD\n",
      "AMZE\n",
      "AMZN\n",
      "AMZP\n",
      "AMZU\n",
      "AMZY\n",
      "AMZZ\n",
      "AN\n",
      "ANAB\n",
      "ANDE\n",
      "ANEB\n",
      "ANET\n",
      "ANEW\n",
      "ANF\n"
     ]
    },
    {
     "name": "stderr",
     "output_type": "stream",
     "text": [
      "$ANG-P-B: possibly delisted; no timezone found\n",
      "ANGHW: Period 'max' is invalid, must be of the format 1d, 5d, etc.\n"
     ]
    },
    {
     "name": "stdout",
     "output_type": "stream",
     "text": [
      "ANGH\n",
      "ANGI\n",
      "ANGL\n",
      "ANGO\n",
      "ANIK\n",
      "ANIP\n",
      "ANIX\n",
      "ANL\n"
     ]
    },
    {
     "name": "stderr",
     "output_type": "stream",
     "text": [
      "ANNAW: Period 'max' is invalid, must be of the format 1d, 5d, etc.\n"
     ]
    },
    {
     "name": "stdout",
     "output_type": "stream",
     "text": [
      "ANNA\n",
      "ANNX\n",
      "ANRO\n",
      "ANSC\n",
      "ANSCU\n"
     ]
    },
    {
     "name": "stderr",
     "output_type": "stream",
     "text": [
      "ANSCW: Period 'max' is invalid, must be of the format 1d, 5d, etc.\n"
     ]
    },
    {
     "name": "stdout",
     "output_type": "stream",
     "text": [
      "ANSS\n",
      "ANTE\n",
      "ANTX\n",
      "ANVS\n",
      "ANY\n",
      "AOA\n",
      "AOCT\n",
      "AOD\n",
      "AOHY\n",
      "AOK\n",
      "AOM\n",
      "AOMN\n",
      "AOMR\n",
      "AON\n",
      "AONC\n"
     ]
    },
    {
     "name": "stderr",
     "output_type": "stream",
     "text": [
      "AONCW: Period 'max' is invalid, must be of the format 1d, 5d, etc.\n"
     ]
    },
    {
     "name": "stdout",
     "output_type": "stream",
     "text": [
      "AOR\n",
      "AORT\n",
      "AOS\n",
      "AOSL\n",
      "AOTG\n",
      "AOUT\n",
      "AP\n"
     ]
    },
    {
     "name": "stderr",
     "output_type": "stream",
     "text": [
      "$AP-WS: possibly delisted; no timezone found\n"
     ]
    },
    {
     "name": "stdout",
     "output_type": "stream",
     "text": [
      "APA\n",
      "APAM\n",
      "APCB\n"
     ]
    },
    {
     "name": "stderr",
     "output_type": "stream",
     "text": [
      "APCXW: Period 'max' is invalid, must be of the format 1d, 5d, etc.\n"
     ]
    },
    {
     "name": "stdout",
     "output_type": "stream",
     "text": [
      "APCX\n",
      "APD\n",
      "APDN\n",
      "APEI\n",
      "APG\n"
     ]
    },
    {
     "name": "stderr",
     "output_type": "stream",
     "text": [
      "$APGB: possibly delisted; no timezone found\n",
      "$APGB-U: possibly delisted; no timezone found\n",
      "$APGB-WS: possibly delisted; no timezone found\n"
     ]
    },
    {
     "name": "stdout",
     "output_type": "stream",
     "text": [
      "APGE\n",
      "APH\n",
      "API\n",
      "APIE\n",
      "APLD\n",
      "APLE\n",
      "APLM\n",
      "APLMW\n",
      "APLS\n",
      "APLT\n",
      "APLY\n"
     ]
    },
    {
     "ename": "KeyboardInterrupt",
     "evalue": "",
     "output_type": "error",
     "traceback": [
      "\u001b[31m---------------------------------------------------------------------------\u001b[39m",
      "\u001b[31mKeyboardInterrupt\u001b[39m                         Traceback (most recent call last)",
      "\u001b[36mCell\u001b[39m\u001b[36m \u001b[39m\u001b[32mIn[29]\u001b[39m\u001b[32m, line 69\u001b[39m\n\u001b[32m     67\u001b[39m         \u001b[38;5;28;01mcontinue\u001b[39;00m\n\u001b[32m     68\u001b[39m     data_all = np.concat([data_all,X])\n\u001b[32m---> \u001b[39m\u001b[32m69\u001b[39m     labels_all = \u001b[43mnp\u001b[49m\u001b[43m.\u001b[49m\u001b[43mconcat\u001b[49m\u001b[43m(\u001b[49m\u001b[43m[\u001b[49m\u001b[43mlabels_all\u001b[49m\u001b[43m,\u001b[49m\u001b[43mY\u001b[49m\u001b[43m]\u001b[49m\u001b[43m)\u001b[49m\n\u001b[32m     70\u001b[39m     \u001b[38;5;28mprint\u001b[39m(symbol)\n\u001b[32m     71\u001b[39m np.save(\u001b[33mf\u001b[39m\u001b[33m\"\u001b[39m\u001b[33mdatasc.npy\u001b[39m\u001b[33m\"\u001b[39m,data_all)\n",
      "\u001b[31mKeyboardInterrupt\u001b[39m: "
     ]
    }
   ],
   "source": [
    "lag_features = [\"close\",\"high\",\"low\",\"open\",\"volume\"]\n",
    "data_all= None\n",
    "labels_all = None\n",
    "interval = \"5m\"\n",
    "for symbol in symbols:\n",
    "    try:\n",
    "        stock = yf.Ticker(symbol) \n",
    "        df = stock.history(period=\"max\")\n",
    "    except:\n",
    "        continue\n",
    "    if df.empty or df.shape[0]<100:\n",
    "        continue\n",
    "    #with open(\"./info.txt\",\"w\") as f:\n",
    "    #    f.write(\"\\n\\n\".join([news[\"content\"][\"summary\"] for news in stock.news]))\n",
    "    if not isinstance(df.columns,pd.MultiIndex):\n",
    "        #normal\n",
    "        df.columns = pd.Index([col.split(\" \")[-1].lower() for col in df.columns])\n",
    "    else:\n",
    "        #forex\n",
    "        df.columns = pd.Index([col[0].split(\" \")[-1].lower() for col in df.columns])\n",
    "    dataDF = df\n",
    "    columns=lag_features\n",
    "    calc_moving_average(dataDF,prevCandles=50)\n",
    "    calc_moving_average(dataDF,prevCandles=20)\n",
    "\n",
    "    calc_exp_average(dataDF,smoothing=12)\n",
    "    calc_exp_average(dataDF,smoothing=26)\n",
    "\n",
    "    calculate_rsi(dataDF)\n",
    "\n",
    "    calculate_macd(dataDF)\n",
    "\n",
    "    calculate_volatility(dataDF)\n",
    "\n",
    "    calculate_bollinger_bands(dataDF)\n",
    "\n",
    "    calculate_VWAP(dataDF)\n",
    "\n",
    "    calculate_VPR(dataDF)\n",
    "    \n",
    "    pred_features = [\"open\",\"high\",\"low\",\"close\",\"volume\"]\n",
    "    for feat in lag_features:\n",
    "        dataDF[feat+\"_lag\"] = dataDF[feat].shift(1)\n",
    "    for feat in pred_features:\n",
    "        dataDF[feat+\"_pred\"] = dataDF[feat].shift(-1)\n",
    "    #dataDF[\"prediction\"] = dataDF[\"close\"].shift(-1)\n",
    "    dataDF[\"symbol\"] = symbols.index(symbol)\n",
    "    #dataDF[\"timestamp\"] = np.arange(0,dataDF.shape[0])\n",
    "    dataDF.dropna(inplace=True) #we don't need to do that for XGB but the loss of data is neglegible\n",
    "    if dataDF.empty or dataDF.shape[0]<100:\n",
    "        continue\n",
    "    columns = list(dataDF.columns)\n",
    "    \n",
    "    for feat in pred_features:\n",
    "        columns.remove(feat+\"_pred\")\n",
    "    #columns.remove(\"prediction\")\n",
    "    if \"gains\" in columns:\n",
    "        columns.remove(\"gains\")\n",
    "    X = np.array(dataDF[columns])\n",
    "    Y = np.array(dataDF[[feat+\"_pred\" for feat in pred_features]])\n",
    "    scaler = StandardScaler()\n",
    "    X[:,:-1] = scaler.fit_transform(X[:,:-1])\n",
    "    #Y =scaler.fit_transform(Y)\n",
    "    if data_all is None:\n",
    "        data_all=X\n",
    "        labels_all=Y\n",
    "        continue\n",
    "    data_all = np.concat([data_all,X])\n",
    "    labels_all = np.concat([labels_all,Y])\n",
    "    print(symbol)\n",
    "np.save(f\"datasc.npy\",data_all)\n",
    "np.save(f\"labelssc.npy\",labels_all)\n",
    "data_all"
   ]
  },
  {
   "cell_type": "code",
   "execution_count": 30,
   "metadata": {},
   "outputs": [
    {
     "data": {
      "text/plain": [
       "array([[-5.64806807e-01, -5.72514884e-01, -6.00927468e-01, ...,\n",
       "        -5.28420457e-01,  2.48398658e+01,  0.00000000e+00],\n",
       "       [-5.87729415e-01, -5.58547182e-01, -5.97362606e-01, ...,\n",
       "        -5.64573706e-01,  5.00187424e+00,  0.00000000e+00],\n",
       "       [-5.70978264e-01, -5.63784979e-01, -5.98253714e-01, ...,\n",
       "        -5.87500533e-01,  1.37230288e+00,  0.00000000e+00],\n",
       "       ...,\n",
       "       [-6.57370208e-01, -6.61984930e-01, -6.52335390e-01, ...,\n",
       "        -6.57921061e-01, -4.42968520e-02,  5.84000000e+02],\n",
       "       [-6.57645722e-01, -6.61984930e-01, -6.52147840e-01, ...,\n",
       "        -6.58349282e-01, -6.03623672e-02,  5.84000000e+02],\n",
       "       [-6.57737559e-01, -6.61984930e-01, -6.52351019e-01, ...,\n",
       "        -6.58624568e-01, -5.94510333e-02,  5.84000000e+02]],\n",
       "      shape=(1623253, 30))"
      ]
     },
     "execution_count": 30,
     "metadata": {},
     "output_type": "execute_result"
    }
   ],
   "source": [
    "np.save(f\"datasc.npy\",data_all)\n",
    "np.save(f\"labelssc.npy\",labels_all)\n",
    "data_all"
   ]
  }
 ],
 "metadata": {
  "kernelspec": {
   "display_name": ".venv",
   "language": "python",
   "name": "python3"
  },
  "language_info": {
   "codemirror_mode": {
    "name": "ipython",
    "version": 3
   },
   "file_extension": ".py",
   "mimetype": "text/x-python",
   "name": "python",
   "nbconvert_exporter": "python",
   "pygments_lexer": "ipython3",
   "version": "3.12.6"
  }
 },
 "nbformat": 4,
 "nbformat_minor": 2
}
