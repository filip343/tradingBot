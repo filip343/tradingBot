{
 "cells": [
  {
   "cell_type": "code",
   "execution_count": 1,
   "metadata": {},
   "outputs": [
    {
     "name": "stdout",
     "output_type": "stream",
     "text": [
      "cuda\n"
     ]
    }
   ],
   "source": [
    "import numpy as np\n",
    "import torch\n",
    "import torch.nn as nn\n",
    "import torch.nn.functional as F\n",
    "DEVICE = torch.device(\"cuda\" if torch.cuda.is_available() else \"cpu\")\n",
    "print(DEVICE)"
   ]
  },
  {
   "cell_type": "code",
   "execution_count": 2,
   "metadata": {},
   "outputs": [],
   "source": [
    "n_epochs = 3\n",
    "batch_size=64\n",
    "lr=1e-3"
   ]
  },
  {
   "cell_type": "code",
   "execution_count": 3,
   "metadata": {},
   "outputs": [
    {
     "data": {
      "text/plain": [
       "tensor([[-5.6481e-01, -5.7251e-01, -6.0093e-01,  ..., -5.2842e-01,\n",
       "          2.4840e+01,  0.0000e+00],\n",
       "        [-5.8773e-01, -5.5855e-01, -5.9736e-01,  ..., -5.6457e-01,\n",
       "          5.0019e+00,  0.0000e+00],\n",
       "        [-5.7098e-01, -5.6378e-01, -5.9825e-01,  ..., -5.8750e-01,\n",
       "          1.3723e+00,  0.0000e+00],\n",
       "        ...,\n",
       "        [-6.5737e-01, -6.6198e-01, -6.5234e-01,  ..., -6.5792e-01,\n",
       "         -4.4297e-02,  5.8400e+02],\n",
       "        [-6.5765e-01, -6.6198e-01, -6.5215e-01,  ..., -6.5835e-01,\n",
       "         -6.0362e-02,  5.8400e+02],\n",
       "        [-6.5774e-01, -6.6198e-01, -6.5235e-01,  ..., -6.5862e-01,\n",
       "         -5.9451e-02,  5.8400e+02]])"
      ]
     },
     "execution_count": 3,
     "metadata": {},
     "output_type": "execute_result"
    }
   ],
   "source": [
    "#X_val = torch.tensor(np.load(\"data1.npy\"),dtype=torch.float).to(DEVICE)\n",
    "#Y_val = torch.tensor(np.load(\"labels1.npy\"),dtype=torch.float).to(DEVICE)\n",
    "\n",
    "X = torch.tensor(np.load(\"datasc.npy\"),dtype=torch.float)\n",
    "Y = torch.tensor(np.load(\"labelssc.npy\"),dtype=torch.float)\n",
    "X"
   ]
  },
  {
   "cell_type": "code",
   "execution_count": 4,
   "metadata": {},
   "outputs": [],
   "source": [
    "class Dataset(torch.utils.data.Dataset):\n",
    "    def __init__(self,X,Y,time_size):\n",
    "        super().__init__()\n",
    "        self.X=X\n",
    "        self.Y=Y\n",
    "        self.time_size = time_size\n",
    "        self.to_timestamps()\n",
    "    def to_timestamps(self):\n",
    "        uniq = torch.unique(self.X[:,-1])\n",
    "        idx=list()\n",
    "\n",
    "        for symbol in uniq:\n",
    "            ids= torch.where(self.X[:,-1]==symbol)[0]\n",
    "            first = torch.min(ids).item()\n",
    "            last = torch.max(ids).item()-self.time_size+1\n",
    "            if last<first:continue\n",
    "            idx.extend(list(range(first,last))) \n",
    "\n",
    "        self.idx = idx\n",
    "        self.X = self.X.to(DEVICE)\n",
    "        self.Y = self.Y.to(DEVICE)\n",
    "    def __getitem__(self, index):\n",
    "        index = self.idx[index]\n",
    "        return (self.X[index:index+self.time_size],self.Y[index:index+self.time_size])\n",
    "    def __len__(self):\n",
    "        return len(self.idx)\n",
    "\n"
   ]
  },
  {
   "cell_type": "code",
   "execution_count": 5,
   "metadata": {},
   "outputs": [],
   "source": [
    "class Transformer(nn.Module):\n",
    "    def __init__(self,input_size,hidden_size,nhead,num_layers,output_size):\n",
    "        super(Transformer,self).__init__()\n",
    "        self.lin1 = nn.Linear(input_size,hidden_size)\n",
    "        self.transformer = nn.Transformer(\n",
    "            d_model=hidden_size,\n",
    "            nhead=nhead,\n",
    "            num_decoder_layers=num_layers,\n",
    "            num_encoder_layers=num_layers,\n",
    "            dim_feedforward=2048,\n",
    "            dropout=0.1\n",
    "        )\n",
    "        self.lin2 = nn.Linear(hidden_size,output_size)\n",
    "    def forward(self,x):\n",
    "        x = F.gelu(self.lin1(x))\n",
    "        x = self.transformer(x,x)\n",
    "        x = self.lin2(x)\n",
    "        return x\n"
   ]
  },
  {
   "cell_type": "code",
   "execution_count": 6,
   "metadata": {},
   "outputs": [
    {
     "name": "stderr",
     "output_type": "stream",
     "text": [
      "c:\\Users\\filip\\Documents\\programowanie\\tradingBot\\.venv\\Lib\\site-packages\\torch\\nn\\modules\\transformer.py:385: UserWarning: enable_nested_tensor is True, but self.use_nested_tensor is False because encoder_layer.self_attn.batch_first was not True(use batch_first for better inference performance)\n",
      "  warnings.warn(\n"
     ]
    }
   ],
   "source": [
    "input_size=30\n",
    "hidden_size=512\n",
    "nhead=8\n",
    "num_layers = 6\n",
    "output_size =5\n",
    "time_size=64\n",
    "model = Transformer(input_size,hidden_size,nhead,num_layers,output_size).to(DEVICE)\n",
    "dataset = Dataset(X,Y,time_size)\n",
    "dataloader = torch.utils.data.DataLoader(dataset,batch_size=batch_size,shuffle=True)\n",
    "\n",
    "criterion = nn.MSELoss()\n",
    "optimizer = torch.optim.Adam(model.parameters(),lr) "
   ]
  },
  {
   "cell_type": "code",
   "execution_count": 7,
   "metadata": {},
   "outputs": [],
   "source": [
    "#model.load_state_dict(torch.load(\"model.pth\",weights_only=True))"
   ]
  },
  {
   "cell_type": "code",
   "execution_count": 8,
   "metadata": {},
   "outputs": [
    {
     "name": "stdout",
     "output_type": "stream",
     "text": [
      "epoch: 0 iter: 0 loss: 166555895726080.0\n"
     ]
    },
    {
     "ename": "RuntimeError",
     "evalue": "stack expects each tensor to be equal size, but got [64, 5] at entry 0 and [0, 5] at entry 50",
     "output_type": "error",
     "traceback": [
      "\u001b[31m---------------------------------------------------------------------------\u001b[39m",
      "\u001b[31mRuntimeError\u001b[39m                              Traceback (most recent call last)",
      "\u001b[36mCell\u001b[39m\u001b[36m \u001b[39m\u001b[32mIn[8]\u001b[39m\u001b[32m, line 3\u001b[39m\n\u001b[32m      1\u001b[39m model.train()\n\u001b[32m      2\u001b[39m \u001b[38;5;28;01mfor\u001b[39;00m epoch \u001b[38;5;129;01min\u001b[39;00m \u001b[38;5;28mrange\u001b[39m(n_epochs):\n\u001b[32m----> \u001b[39m\u001b[32m3\u001b[39m \u001b[43m    \u001b[49m\u001b[38;5;28;43;01mfor\u001b[39;49;00m\u001b[43m \u001b[49m\u001b[43mi\u001b[49m\u001b[43m,\u001b[49m\u001b[43m(\u001b[49m\u001b[43mx\u001b[49m\u001b[43m,\u001b[49m\u001b[43my\u001b[49m\u001b[43m)\u001b[49m\u001b[43m \u001b[49m\u001b[38;5;129;43;01min\u001b[39;49;00m\u001b[43m \u001b[49m\u001b[38;5;28;43menumerate\u001b[39;49m\u001b[43m(\u001b[49m\u001b[43mdataloader\u001b[49m\u001b[43m)\u001b[49m\u001b[43m:\u001b[49m\n\u001b[32m      4\u001b[39m \u001b[43m        \u001b[49m\u001b[43mpred\u001b[49m\u001b[43m \u001b[49m\u001b[43m=\u001b[49m\u001b[43m \u001b[49m\u001b[43mmodel\u001b[49m\u001b[43m(\u001b[49m\u001b[43mx\u001b[49m\u001b[43m)\u001b[49m\n\u001b[32m      6\u001b[39m \u001b[43m        \u001b[49m\u001b[43mloss\u001b[49m\u001b[43m \u001b[49m\u001b[43m=\u001b[49m\u001b[43m \u001b[49m\u001b[43mcriterion\u001b[49m\u001b[43m(\u001b[49m\u001b[43my\u001b[49m\u001b[43m[\u001b[49m\u001b[43m:\u001b[49m\u001b[43m,\u001b[49m\u001b[43m-\u001b[49m\u001b[32;43m1\u001b[39;49m\u001b[43m]\u001b[49m\u001b[43m,\u001b[49m\u001b[43mpred\u001b[49m\u001b[43m[\u001b[49m\u001b[43m:\u001b[49m\u001b[43m,\u001b[49m\u001b[43m-\u001b[49m\u001b[32;43m1\u001b[39;49m\u001b[43m]\u001b[49m\u001b[43m)\u001b[49m\n",
      "\u001b[36mFile \u001b[39m\u001b[32mc:\\Users\\filip\\Documents\\programowanie\\tradingBot\\.venv\\Lib\\site-packages\\torch\\utils\\data\\dataloader.py:708\u001b[39m, in \u001b[36m_BaseDataLoaderIter.__next__\u001b[39m\u001b[34m(self)\u001b[39m\n\u001b[32m    705\u001b[39m \u001b[38;5;28;01mif\u001b[39;00m \u001b[38;5;28mself\u001b[39m._sampler_iter \u001b[38;5;129;01mis\u001b[39;00m \u001b[38;5;28;01mNone\u001b[39;00m:\n\u001b[32m    706\u001b[39m     \u001b[38;5;66;03m# TODO(https://github.com/pytorch/pytorch/issues/76750)\u001b[39;00m\n\u001b[32m    707\u001b[39m     \u001b[38;5;28mself\u001b[39m._reset()  \u001b[38;5;66;03m# type: ignore[call-arg]\u001b[39;00m\n\u001b[32m--> \u001b[39m\u001b[32m708\u001b[39m data = \u001b[38;5;28;43mself\u001b[39;49m\u001b[43m.\u001b[49m\u001b[43m_next_data\u001b[49m\u001b[43m(\u001b[49m\u001b[43m)\u001b[49m\n\u001b[32m    709\u001b[39m \u001b[38;5;28mself\u001b[39m._num_yielded += \u001b[32m1\u001b[39m\n\u001b[32m    710\u001b[39m \u001b[38;5;28;01mif\u001b[39;00m (\n\u001b[32m    711\u001b[39m     \u001b[38;5;28mself\u001b[39m._dataset_kind == _DatasetKind.Iterable\n\u001b[32m    712\u001b[39m     \u001b[38;5;129;01mand\u001b[39;00m \u001b[38;5;28mself\u001b[39m._IterableDataset_len_called \u001b[38;5;129;01mis\u001b[39;00m \u001b[38;5;129;01mnot\u001b[39;00m \u001b[38;5;28;01mNone\u001b[39;00m\n\u001b[32m    713\u001b[39m     \u001b[38;5;129;01mand\u001b[39;00m \u001b[38;5;28mself\u001b[39m._num_yielded > \u001b[38;5;28mself\u001b[39m._IterableDataset_len_called\n\u001b[32m    714\u001b[39m ):\n",
      "\u001b[36mFile \u001b[39m\u001b[32mc:\\Users\\filip\\Documents\\programowanie\\tradingBot\\.venv\\Lib\\site-packages\\torch\\utils\\data\\dataloader.py:764\u001b[39m, in \u001b[36m_SingleProcessDataLoaderIter._next_data\u001b[39m\u001b[34m(self)\u001b[39m\n\u001b[32m    762\u001b[39m \u001b[38;5;28;01mdef\u001b[39;00m\u001b[38;5;250m \u001b[39m\u001b[34m_next_data\u001b[39m(\u001b[38;5;28mself\u001b[39m):\n\u001b[32m    763\u001b[39m     index = \u001b[38;5;28mself\u001b[39m._next_index()  \u001b[38;5;66;03m# may raise StopIteration\u001b[39;00m\n\u001b[32m--> \u001b[39m\u001b[32m764\u001b[39m     data = \u001b[38;5;28;43mself\u001b[39;49m\u001b[43m.\u001b[49m\u001b[43m_dataset_fetcher\u001b[49m\u001b[43m.\u001b[49m\u001b[43mfetch\u001b[49m\u001b[43m(\u001b[49m\u001b[43mindex\u001b[49m\u001b[43m)\u001b[49m  \u001b[38;5;66;03m# may raise StopIteration\u001b[39;00m\n\u001b[32m    765\u001b[39m     \u001b[38;5;28;01mif\u001b[39;00m \u001b[38;5;28mself\u001b[39m._pin_memory:\n\u001b[32m    766\u001b[39m         data = _utils.pin_memory.pin_memory(data, \u001b[38;5;28mself\u001b[39m._pin_memory_device)\n",
      "\u001b[36mFile \u001b[39m\u001b[32mc:\\Users\\filip\\Documents\\programowanie\\tradingBot\\.venv\\Lib\\site-packages\\torch\\utils\\data\\_utils\\fetch.py:55\u001b[39m, in \u001b[36m_MapDatasetFetcher.fetch\u001b[39m\u001b[34m(self, possibly_batched_index)\u001b[39m\n\u001b[32m     53\u001b[39m \u001b[38;5;28;01melse\u001b[39;00m:\n\u001b[32m     54\u001b[39m     data = \u001b[38;5;28mself\u001b[39m.dataset[possibly_batched_index]\n\u001b[32m---> \u001b[39m\u001b[32m55\u001b[39m \u001b[38;5;28;01mreturn\u001b[39;00m \u001b[38;5;28;43mself\u001b[39;49m\u001b[43m.\u001b[49m\u001b[43mcollate_fn\u001b[49m\u001b[43m(\u001b[49m\u001b[43mdata\u001b[49m\u001b[43m)\u001b[49m\n",
      "\u001b[36mFile \u001b[39m\u001b[32mc:\\Users\\filip\\Documents\\programowanie\\tradingBot\\.venv\\Lib\\site-packages\\torch\\utils\\data\\_utils\\collate.py:398\u001b[39m, in \u001b[36mdefault_collate\u001b[39m\u001b[34m(batch)\u001b[39m\n\u001b[32m    337\u001b[39m \u001b[38;5;28;01mdef\u001b[39;00m\u001b[38;5;250m \u001b[39m\u001b[34mdefault_collate\u001b[39m(batch):\n\u001b[32m    338\u001b[39m \u001b[38;5;250m    \u001b[39m\u001b[33mr\u001b[39m\u001b[33;03m\"\"\"\u001b[39;00m\n\u001b[32m    339\u001b[39m \u001b[33;03m    Take in a batch of data and put the elements within the batch into a tensor with an additional outer dimension - batch size.\u001b[39;00m\n\u001b[32m    340\u001b[39m \n\u001b[32m   (...)\u001b[39m\u001b[32m    396\u001b[39m \u001b[33;03m        >>> default_collate(batch)  # Handle `CustomType` automatically\u001b[39;00m\n\u001b[32m    397\u001b[39m \u001b[33;03m    \"\"\"\u001b[39;00m\n\u001b[32m--> \u001b[39m\u001b[32m398\u001b[39m     \u001b[38;5;28;01mreturn\u001b[39;00m \u001b[43mcollate\u001b[49m\u001b[43m(\u001b[49m\u001b[43mbatch\u001b[49m\u001b[43m,\u001b[49m\u001b[43m \u001b[49m\u001b[43mcollate_fn_map\u001b[49m\u001b[43m=\u001b[49m\u001b[43mdefault_collate_fn_map\u001b[49m\u001b[43m)\u001b[49m\n",
      "\u001b[36mFile \u001b[39m\u001b[32mc:\\Users\\filip\\Documents\\programowanie\\tradingBot\\.venv\\Lib\\site-packages\\torch\\utils\\data\\_utils\\collate.py:212\u001b[39m, in \u001b[36mcollate\u001b[39m\u001b[34m(batch, collate_fn_map)\u001b[39m\n\u001b[32m    208\u001b[39m transposed = \u001b[38;5;28mlist\u001b[39m(\u001b[38;5;28mzip\u001b[39m(*batch))  \u001b[38;5;66;03m# It may be accessed twice, so we use a list.\u001b[39;00m\n\u001b[32m    210\u001b[39m \u001b[38;5;28;01mif\u001b[39;00m \u001b[38;5;28misinstance\u001b[39m(elem, \u001b[38;5;28mtuple\u001b[39m):\n\u001b[32m    211\u001b[39m     \u001b[38;5;28;01mreturn\u001b[39;00m [\n\u001b[32m--> \u001b[39m\u001b[32m212\u001b[39m         \u001b[43mcollate\u001b[49m\u001b[43m(\u001b[49m\u001b[43msamples\u001b[49m\u001b[43m,\u001b[49m\u001b[43m \u001b[49m\u001b[43mcollate_fn_map\u001b[49m\u001b[43m=\u001b[49m\u001b[43mcollate_fn_map\u001b[49m\u001b[43m)\u001b[49m\n\u001b[32m    213\u001b[39m         \u001b[38;5;28;01mfor\u001b[39;00m samples \u001b[38;5;129;01min\u001b[39;00m transposed\n\u001b[32m    214\u001b[39m     ]  \u001b[38;5;66;03m# Backwards compatibility.\u001b[39;00m\n\u001b[32m    215\u001b[39m \u001b[38;5;28;01melse\u001b[39;00m:\n\u001b[32m    216\u001b[39m     \u001b[38;5;28;01mtry\u001b[39;00m:\n",
      "\u001b[36mFile \u001b[39m\u001b[32mc:\\Users\\filip\\Documents\\programowanie\\tradingBot\\.venv\\Lib\\site-packages\\torch\\utils\\data\\_utils\\collate.py:155\u001b[39m, in \u001b[36mcollate\u001b[39m\u001b[34m(batch, collate_fn_map)\u001b[39m\n\u001b[32m    153\u001b[39m \u001b[38;5;28;01mif\u001b[39;00m collate_fn_map \u001b[38;5;129;01mis\u001b[39;00m \u001b[38;5;129;01mnot\u001b[39;00m \u001b[38;5;28;01mNone\u001b[39;00m:\n\u001b[32m    154\u001b[39m     \u001b[38;5;28;01mif\u001b[39;00m elem_type \u001b[38;5;129;01min\u001b[39;00m collate_fn_map:\n\u001b[32m--> \u001b[39m\u001b[32m155\u001b[39m         \u001b[38;5;28;01mreturn\u001b[39;00m \u001b[43mcollate_fn_map\u001b[49m\u001b[43m[\u001b[49m\u001b[43melem_type\u001b[49m\u001b[43m]\u001b[49m\u001b[43m(\u001b[49m\u001b[43mbatch\u001b[49m\u001b[43m,\u001b[49m\u001b[43m \u001b[49m\u001b[43mcollate_fn_map\u001b[49m\u001b[43m=\u001b[49m\u001b[43mcollate_fn_map\u001b[49m\u001b[43m)\u001b[49m\n\u001b[32m    157\u001b[39m     \u001b[38;5;28;01mfor\u001b[39;00m collate_type \u001b[38;5;129;01min\u001b[39;00m collate_fn_map:\n\u001b[32m    158\u001b[39m         \u001b[38;5;28;01mif\u001b[39;00m \u001b[38;5;28misinstance\u001b[39m(elem, collate_type):\n",
      "\u001b[36mFile \u001b[39m\u001b[32mc:\\Users\\filip\\Documents\\programowanie\\tradingBot\\.venv\\Lib\\site-packages\\torch\\utils\\data\\_utils\\collate.py:272\u001b[39m, in \u001b[36mcollate_tensor_fn\u001b[39m\u001b[34m(batch, collate_fn_map)\u001b[39m\n\u001b[32m    270\u001b[39m     storage = elem._typed_storage()._new_shared(numel, device=elem.device)\n\u001b[32m    271\u001b[39m     out = elem.new(storage).resize_(\u001b[38;5;28mlen\u001b[39m(batch), *\u001b[38;5;28mlist\u001b[39m(elem.size()))\n\u001b[32m--> \u001b[39m\u001b[32m272\u001b[39m \u001b[38;5;28;01mreturn\u001b[39;00m \u001b[43mtorch\u001b[49m\u001b[43m.\u001b[49m\u001b[43mstack\u001b[49m\u001b[43m(\u001b[49m\u001b[43mbatch\u001b[49m\u001b[43m,\u001b[49m\u001b[43m \u001b[49m\u001b[32;43m0\u001b[39;49m\u001b[43m,\u001b[49m\u001b[43m \u001b[49m\u001b[43mout\u001b[49m\u001b[43m=\u001b[49m\u001b[43mout\u001b[49m\u001b[43m)\u001b[49m\n",
      "\u001b[31mRuntimeError\u001b[39m: stack expects each tensor to be equal size, but got [64, 5] at entry 0 and [0, 5] at entry 50"
     ]
    }
   ],
   "source": [
    "model.train()\n",
    "for epoch in range(n_epochs):\n",
    "    for i,(x,y) in enumerate(dataloader):\n",
    "        pred = model(x)\n",
    "\n",
    "        loss = criterion(y[:,-1],pred[:,-1])\n",
    "        loss.backward()\n",
    "        optimizer.step()\n",
    "        optimizer.zero_grad()\n",
    "        if i%1000==0:\n",
    "            print(f\"epoch: {epoch} iter: {i} loss: {loss}\")    "
   ]
  },
  {
   "cell_type": "code",
   "execution_count": null,
   "metadata": {},
   "outputs": [],
   "source": [
    "torch.save(model.state_dict(),\"model_features_lastout.pth\")"
   ]
  },
  {
   "cell_type": "code",
   "execution_count": null,
   "metadata": {},
   "outputs": [],
   "source": [
    "def calc_last_moving_average(data,idx=0,prevCandles=50):\n",
    "    values = data[idx]\n",
    "    if values.size<prevCandles:\n",
    "        return values.mean()\n",
    "    else:\n",
    "        return values[-prevCandles:].mean()"
   ]
  },
  {
   "cell_type": "code",
   "execution_count": null,
   "metadata": {},
   "outputs": [],
   "source": [
    "import matplotlib.pyplot as plt\n",
    "def plot_lines(true,pred):\n",
    "    fig, ax = plt.subplots(figsize=(20,6))\n",
    "    minV=float(\"inf\")\n",
    "    maxV=float(\"-inf\")\n",
    "    print(true.shape)\n",
    "    print(pred.shape)\n",
    "    line = plt.Line2D(ydata=true, xdata=np.arange(0, true.shape[0]),label=\"true\",color=\"red\")\n",
    "    minV = min(minV,true.min())\n",
    "    maxV = max(maxV,true.max())\n",
    "    # Add the line to the axis\n",
    "    ax.add_line(line)\n",
    "    line = plt.Line2D(ydata=pred, xdata=np.arange(0, pred.shape[0]),label=\"pred\",color=\"green\")\n",
    "    minV = min(minV,pred.min())\n",
    "    maxV = max(maxV,pred.max())\n",
    "    # Add the line to the axis\n",
    "    ax.add_line(line)\n",
    "\n",
    "    # Adjust limits\n",
    "    ax.legend()\n",
    "    ax.set_ylim(minV, maxV)\n",
    "    ax.set_xlim(0, true.shape[0])\n",
    "    # Show plot\n",
    "    plt.show()"
   ]
  },
  {
   "cell_type": "code",
   "execution_count": null,
   "metadata": {},
   "outputs": [],
   "source": [
    "test_data = torch.zeros((200,time_size,30))\n",
    "test_labels =torch.zeros((200,time_size,5))\n",
    "id1=10000\n",
    "for i in range(id1,id1+200):\n",
    "    x,y = dataset.__getitem__(i)\n",
    "    test_data[id1-i] = x\n",
    "    test_labels[id1-i] = y\n",
    "test_data = test_data.to(DEVICE)\n",
    "test_labels = test_labels.to(DEVICE)"
   ]
  },
  {
   "cell_type": "code",
   "execution_count": null,
   "metadata": {},
   "outputs": [
    {
     "name": "stdout",
     "output_type": "stream",
     "text": [
      "tensor([[[-0.0102, -0.0091, -0.0142,  0.0114,  0.0580],\n",
      "         [ 0.0217,  0.0118,  0.0025,  0.0274,  0.0880],\n",
      "         [ 0.0010, -0.0054, -0.0128, -0.0116,  0.0531],\n",
      "         ...,\n",
      "         [-0.0311, -0.0266, -0.0346,  0.0308,  0.0837],\n",
      "         [ 0.0101,  0.0076,  0.0125,  0.0130,  0.0545],\n",
      "         [-0.0567, -0.0453, -0.0612, -0.0060,  0.1019]],\n",
      "\n",
      "        [[ 0.0002, -0.0065, -0.0001,  0.0223,  0.0478],\n",
      "         [ 0.0019, -0.0023, -0.0112,  0.0203,  0.0382],\n",
      "         [ 0.0088,  0.0005,  0.0031,  0.0102,  0.0727],\n",
      "         ...,\n",
      "         [-0.0010,  0.0049,  0.0044,  0.0131,  0.0698],\n",
      "         [-0.0036,  0.0089,  0.0022,  0.0189,  0.0547],\n",
      "         [ 0.0045,  0.0067,  0.0065,  0.0167,  0.0652]],\n",
      "\n",
      "        [[-0.0122, -0.0101, -0.0066,  0.0091,  0.0712],\n",
      "         [-0.0373, -0.0299, -0.0111,  0.0081,  0.1079],\n",
      "         [-0.0148, -0.0212, -0.0145, -0.0065,  0.0900],\n",
      "         ...,\n",
      "         [-0.0387, -0.0785, -0.0579, -0.0276,  0.1051],\n",
      "         [ 0.0137, -0.0051,  0.0004,  0.0226,  0.0696],\n",
      "         [-0.0352, -0.0464, -0.0341, -0.0287,  0.0571]],\n",
      "\n",
      "        ...,\n",
      "\n",
      "        [[ 0.0028, -0.0007, -0.0028,  0.0249,  0.0736],\n",
      "         [ 0.0162,  0.0123,  0.0083,  0.0185,  0.0758],\n",
      "         [-0.0045, -0.0092,  0.0045,  0.0113,  0.0594],\n",
      "         ...,\n",
      "         [ 0.0037, -0.0045, -0.0321,  0.0254,  0.0762],\n",
      "         [-0.0055, -0.0104, -0.0245,  0.0087,  0.0698],\n",
      "         [ 0.0125,  0.0146, -0.0076,  0.0045,  0.0770]],\n",
      "\n",
      "        [[ 0.0055, -0.0114, -0.0022,  0.0069,  0.0559],\n",
      "         [ 0.0016, -0.0029, -0.0020,  0.0268,  0.0507],\n",
      "         [ 0.0030,  0.0100,  0.0086,  0.0281,  0.0826],\n",
      "         ...,\n",
      "         [ 0.0121, -0.0386, -0.0184,  0.0174,  0.0587],\n",
      "         [ 0.0184, -0.0014,  0.0040,  0.0155,  0.0629],\n",
      "         [ 0.0137, -0.0057, -0.0006,  0.0134,  0.0705]],\n",
      "\n",
      "        [[-0.0041, -0.0059,  0.0058,  0.0119,  0.0448],\n",
      "         [ 0.0029,  0.0131, -0.0101,  0.0234,  0.0485],\n",
      "         [ 0.0096,  0.0170, -0.0026,  0.0200,  0.0622],\n",
      "         ...,\n",
      "         [-0.0022,  0.0009, -0.0118,  0.0060,  0.0645],\n",
      "         [ 0.0149,  0.0174,  0.0051,  0.0280,  0.0599],\n",
      "         [ 0.0045,  0.0059, -0.0083,  0.0160,  0.0712]]], device='cuda:0')\n"
     ]
    }
   ],
   "source": [
    "with torch.no_grad():\n",
    "    preds = model(test_data)\n",
    "print(preds)"
   ]
  },
  {
   "cell_type": "code",
   "execution_count": null,
   "metadata": {},
   "outputs": [
    {
     "name": "stdout",
     "output_type": "stream",
     "text": [
      "torch.Size([200])\n",
      "torch.Size([200])\n"
     ]
    },
    {
     "data": {
      "image/png": "[encoded data removed]",
      "text/plain": [
       "<Figure size 2000x600 with 1 Axes>"
      ]
     },
     "metadata": {},
     "output_type": "display_data"
    },
    {
     "data": {
      "text/plain": [
       "tensor([[[-0.8563, -0.8577, -0.8594, -0.8596, -0.5920],\n",
       "         [-0.8595, -0.8589, -0.8585, -0.8581, -0.6277],\n",
       "         [-0.8581, -0.8583, -0.8575, -0.8569, -0.6282],\n",
       "         ...,\n",
       "         [-0.8661, -0.8651, -0.8667, -0.8638, -0.6423],\n",
       "         [-0.8637, -0.8627, -0.8627, -0.8632, -0.5896],\n",
       "         [-0.8631, -0.8636, -0.8627, -0.8632, -0.6508]],\n",
       "\n",
       "        [[-0.8751, -0.8751, -0.8743, -0.8740, -0.5469],\n",
       "         [-0.8739, -0.8751, -0.8746, -0.8743, -0.6262],\n",
       "         [-0.8739, -0.8727, -0.8731, -0.8716, -0.4586],\n",
       "         ...,\n",
       "         [-0.8900, -0.8910, -0.8907, -0.8910, -0.5780],\n",
       "         [-0.8910, -0.8913, -0.8907, -0.8914, -0.6498],\n",
       "         [-0.8925, -0.8934, -0.8945, -0.8947, -0.5716]],\n",
       "\n",
       "        [[-0.8724, -0.8736, -0.8746, -0.8755, -0.5605],\n",
       "         [-0.8751, -0.8751, -0.8743, -0.8740, -0.5469],\n",
       "         [-0.8739, -0.8751, -0.8746, -0.8743, -0.6262],\n",
       "         ...,\n",
       "         [-0.8907, -0.8897, -0.8901, -0.8901, -0.6078],\n",
       "         [-0.8900, -0.8910, -0.8907, -0.8910, -0.5780],\n",
       "         [-0.8910, -0.8913, -0.8907, -0.8914, -0.6498]],\n",
       "\n",
       "        ...,\n",
       "\n",
       "        [[-0.8569, -0.8577, -0.8588, -0.8590, -0.5773],\n",
       "         [-0.8590, -0.8598, -0.8585, -0.8587, -0.6115],\n",
       "         [-0.8592, -0.8606, -0.8630, -0.8641, -0.5329],\n",
       "         ...,\n",
       "         [-0.8631, -0.8636, -0.8624, -0.8632, -0.6408],\n",
       "         [-0.8631, -0.8636, -0.8624, -0.8626, -0.6624],\n",
       "         [-0.8628, -0.8642, -0.8627, -0.8638, -0.6587]],\n",
       "\n",
       "        [[-0.8581, -0.8583, -0.8575, -0.8569, -0.6282],\n",
       "         [-0.8569, -0.8577, -0.8588, -0.8590, -0.5773],\n",
       "         [-0.8590, -0.8598, -0.8585, -0.8587, -0.6115],\n",
       "         ...,\n",
       "         [-0.8631, -0.8636, -0.8627, -0.8632, -0.6508],\n",
       "         [-0.8631, -0.8636, -0.8624, -0.8632, -0.6408],\n",
       "         [-0.8631, -0.8636, -0.8624, -0.8626, -0.6624]],\n",
       "\n",
       "        [[-0.8595, -0.8589, -0.8585, -0.8581, -0.6277],\n",
       "         [-0.8581, -0.8583, -0.8575, -0.8569, -0.6282],\n",
       "         [-0.8569, -0.8577, -0.8588, -0.8590, -0.5773],\n",
       "         ...,\n",
       "         [-0.8637, -0.8627, -0.8627, -0.8632, -0.5896],\n",
       "         [-0.8631, -0.8636, -0.8627, -0.8632, -0.6508],\n",
       "         [-0.8631, -0.8636, -0.8624, -0.8632, -0.6408]]], device='cuda:0')"
      ]
     },
     "execution_count": 61,
     "metadata": {},
     "output_type": "execute_result"
    }
   ],
   "source": [
    "plot_lines(test_labels[:,-1,0].flatten().cpu(),preds[:,-1,0].flatten().cpu())\n",
    "test_labels"
   ]
  }
 ],
 "metadata": {
  "kernelspec": {
   "display_name": ".venv",
   "language": "python",
   "name": "python3"
  },
  "language_info": {
   "codemirror_mode": {
    "name": "ipython",
    "version": 3
   },
   "file_extension": ".py",
   "mimetype": "text/x-python",
   "name": "python",
   "nbconvert_exporter": "python",
   "pygments_lexer": "ipython3",
   "version": "3.12.6"
  }
 },
 "nbformat": 4,
 "nbformat_minor": 2
}
